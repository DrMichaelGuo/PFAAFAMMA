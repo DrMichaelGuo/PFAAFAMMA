{
  "nbformat": 4,
  "nbformat_minor": 0,
  "metadata": {
    "colab": {
      "provenance": []
    },
    "kernelspec": {
      "name": "python3",
      "display_name": "Python 3"
    },
    "language_info": {
      "name": "python"
    }
  },
  "cells": [
    {
      "cell_type": "markdown",
      "source": [
        "# Key Concepts"
      ],
      "metadata": {
        "id": "l_dr-5f5G2h5"
      }
    },
    {
      "cell_type": "code",
      "source": [
        "if profit > 10000:\n",
        "   print(\"Bonus awarded\")"
      ],
      "metadata": {
        "id": "IERTTPxKGzMp"
      },
      "execution_count": null,
      "outputs": []
    },
    {
      "cell_type": "code",
      "source": [
        "if profit > 10000:\n",
        "   print(\"Bonus awarded\")\n",
        "else:\n",
        "   print(\"No bonus\")"
      ],
      "metadata": {
        "id": "6jlExd6LG2Dn"
      },
      "execution_count": null,
      "outputs": []
    },
    {
      "cell_type": "code",
      "source": [
        "if profit > 10000:\n",
        "   print(\"High bonus\")\n",
        "elif profit > 5000:\n",
        "   print(\"Moderate bonus\")\n",
        "else:\n",
        "   print(\"No bonus\")"
      ],
      "metadata": {
        "id": "LYAya4tFG5zN"
      },
      "execution_count": null,
      "outputs": []
    },
    {
      "cell_type": "code",
      "source": [
        "if revenue > 10000:\n",
        "   if expenses < 5000:\n",
        "       print(\"Excellent performance\")"
      ],
      "metadata": {
        "id": "akpWlq53G7jL"
      },
      "execution_count": null,
      "outputs": []
    },
    {
      "cell_type": "code",
      "source": [
        "if profit > 0:\n",
        "   print(\"Profitable\")\n",
        "   print(\"Keep it up\")"
      ],
      "metadata": {
        "id": "sw55QzBcG9m2"
      },
      "execution_count": null,
      "outputs": []
    },
    {
      "cell_type": "code",
      "source": [
        "if profit > 0\n",
        "   print(\"Profitable\")\n",
        "   print(\"Keep it up\")"
      ],
      "metadata": {
        "id": "-nFnS2xOG--C"
      },
      "execution_count": null,
      "outputs": []
    },
    {
      "cell_type": "code",
      "source": [
        "profit = 7000\n",
        "\n",
        "\n",
        "if profit > 10000:\n",
        "   print(\"High profit\")\n",
        "elif profit > 5000:\n",
        "   print(\"Moderate profit\")\n",
        "else:\n",
        "   print(\"Low profit\")\n"
      ],
      "metadata": {
        "id": "8iqf-4EUHBIi"
      },
      "execution_count": null,
      "outputs": []
    },
    {
      "cell_type": "code",
      "source": [
        "profit = 7000\n",
        "\n",
        "\n",
        "if profit > 10000:\n",
        "   print(\"High profit\")\n",
        "    print(\"Profit is higher than expected.\")\n",
        "elif profit > 5000:\n",
        " print(\"Moderate profit\")\n",
        " print(\"Profit is moderate.\")\n",
        "else:\n",
        "   print(\"Low profit\")\n"
      ],
      "metadata": {
        "id": "Tr7JvGDeHBou"
      },
      "execution_count": null,
      "outputs": []
    },
    {
      "cell_type": "markdown",
      "source": [
        "## Follow-Along Activity"
      ],
      "metadata": {
        "id": "Uju8y0GDGNsR"
      }
    },
    {
      "cell_type": "code",
      "source": [
        "expense = 250\n",
        "\n",
        "if expense < 100:\n",
        "   category = \"Low\"\n",
        "elif 100 <= expense <= 500:\n",
        "   category = \"Medium\"\n",
        "else:\n",
        "   category = \"High\"\n",
        "\n",
        "print(category)\n"
      ],
      "metadata": {
        "colab": {
          "base_uri": "https://localhost:8080/"
        },
        "id": "AKhIwZ0CHhGZ",
        "outputId": "065616c5-e443-4b24-fc6a-331dc3910969"
      },
      "execution_count": 1,
      "outputs": [
        {
          "output_type": "stream",
          "name": "stdout",
          "text": [
            "Medium\n"
          ]
        }
      ]
    },
    {
      "cell_type": "code",
      "source": [
        "budget = 1000  # Monthly budget in pounds\n",
        "expense = 900  # Example expense amount\n",
        "\n",
        "if expense > budget:\n",
        "    category = \"Above Budget\"\n",
        "else:\n",
        "    category = \"Within Budget\"\n",
        "\n",
        "print(\"The expense category is:\", category)\n"
      ],
      "metadata": {
        "colab": {
          "base_uri": "https://localhost:8080/"
        },
        "id": "uLH0Sh8pH7NO",
        "outputId": "ccd606ee-ea4a-45a6-a963-968189f9bb35"
      },
      "execution_count": 3,
      "outputs": [
        {
          "output_type": "stream",
          "name": "stdout",
          "text": [
            "The expense category is: Within Budget\n"
          ]
        }
      ]
    },
    {
      "cell_type": "code",
      "source": [
        "transaction_amount = 750  # Define transaction amount\n",
        "\n",
        "if transaction_amount < 100:\n",
        "    category = \"Low\"\n",
        "elif 100 <= transaction_amount <= 500:\n",
        "    category = \"Medium\"\n",
        "elif 500 < transaction_amount <= 1000:\n",
        "    category = \"High\"\n",
        "else:\n",
        "    category = \"Very High\"\n",
        "\n",
        "print(\"The transaction category is:\", category)\n"
      ],
      "metadata": {
        "colab": {
          "base_uri": "https://localhost:8080/"
        },
        "id": "koW7EwrWIFIk",
        "outputId": "4e25f2b0-4324-402a-b588-2f8a0bfd0f71"
      },
      "execution_count": 4,
      "outputs": [
        {
          "output_type": "stream",
          "name": "stdout",
          "text": [
            "The transaction category is: High\n"
          ]
        }
      ]
    },
    {
      "cell_type": "markdown",
      "source": [
        "# Your Project"
      ],
      "metadata": {
        "id": "JqxXFhEmCqh5"
      }
    },
    {
      "cell_type": "code",
      "source": [
        "# Step 1: Get the income value from the user\n",
        "income_input = input(\"Enter the client's annual income (£): \")\n",
        "income = float(income_input)  # Convert the input to a float for handling decimals\n",
        "\n",
        "\n",
        "# Step 2: Apply conditional statements for categorisation\n",
        "if income < 25000:\n",
        "  category = \"Low Income\"\n",
        "elif income < 60000:\n",
        "  category = \"Middle Income\"\n",
        "else:\n",
        "  category = \"High Income\"\n",
        "\n",
        "\n",
        "# Step 3: Display the result\n",
        "print(f\"Category: {category}\")\n"
      ],
      "metadata": {
        "colab": {
          "base_uri": "https://localhost:8080/"
        },
        "id": "ZCRTU1dKIOUM",
        "outputId": "40d1b29a-eca3-4953-8fc7-74600cbeb9ed"
      },
      "execution_count": 5,
      "outputs": [
        {
          "output_type": "stream",
          "name": "stdout",
          "text": [
            "Enter the client's annual income (£): 20000\n",
            "Category: Low Income\n"
          ]
        }
      ]
    }
  ]
}