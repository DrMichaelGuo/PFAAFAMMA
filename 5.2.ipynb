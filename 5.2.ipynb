{
  "nbformat": 4,
  "nbformat_minor": 0,
  "metadata": {
    "colab": {
      "provenance": []
    },
    "kernelspec": {
      "name": "python3",
      "display_name": "Python 3"
    },
    "language_info": {
      "name": "python"
    }
  },
  "cells": [
    {
      "cell_type": "markdown",
      "source": [
        "## Follow-Along Activity"
      ],
      "metadata": {
        "id": "Ys-KvcLwkGAh"
      }
    },
    {
      "cell_type": "code",
      "execution_count": null,
      "metadata": {
        "colab": {
          "base_uri": "https://localhost:8080/"
        },
        "id": "10femh5tj7Vs",
        "outputId": "735ead17-45cb-460a-b3ea-da31aabee012"
      },
      "outputs": [
        {
          "output_type": "stream",
          "name": "stdout",
          "text": [
            "   Transaction ID Client Name  Amount Category\n",
            "0               1       Alice  2000.0  Revenue\n",
            "1               2         Bob     NaN  Expense\n",
            "2               3        None  1500.0  Revenue\n",
            "3               4       David  2500.0     None\n",
            "4               5         Eve     NaN  Expense\n"
          ]
        }
      ],
      "source": [
        "import pandas as pd\n",
        "\n",
        "# Sample financial data with missing values\n",
        "data = {\n",
        "    'Transaction ID': [1, 2, 3, 4, 5],\n",
        "    'Client Name': ['Alice', 'Bob', None, 'David', 'Eve'],\n",
        "    'Amount': [2000, None, 1500, 2500, None],\n",
        "    'Category': ['Revenue', 'Expense', 'Revenue', None, 'Expense']\n",
        "}\n",
        "\n",
        "df = pd.DataFrame(data)\n",
        "print(df)"
      ]
    },
    {
      "cell_type": "code",
      "source": [
        "# Identify missing values using .isna()\n",
        "print(df.isna())"
      ],
      "metadata": {
        "colab": {
          "base_uri": "https://localhost:8080/"
        },
        "id": "HfETOHDwLBRB",
        "outputId": "68aab8aa-9ccd-49ac-df48-02c7fba11c6c"
      },
      "execution_count": null,
      "outputs": [
        {
          "output_type": "stream",
          "name": "stdout",
          "text": [
            "   Transaction ID  Client Name  Amount  Category\n",
            "0           False        False   False     False\n",
            "1           False        False    True     False\n",
            "2           False         True   False     False\n",
            "3           False        False   False      True\n",
            "4           False        False    True     False\n"
          ]
        }
      ]
    },
    {
      "cell_type": "code",
      "source": [
        "# Identify missing values using sum\n",
        "print(df.isna().sum())"
      ],
      "metadata": {
        "colab": {
          "base_uri": "https://localhost:8080/"
        },
        "id": "buJoFKmULH8h",
        "outputId": "f7d56eb0-2e5e-4df3-df13-554e363a331f"
      },
      "execution_count": null,
      "outputs": [
        {
          "output_type": "stream",
          "name": "stdout",
          "text": [
            "Transaction ID    0\n",
            "Client Name       1\n",
            "Amount            2\n",
            "Category          1\n",
            "dtype: int64\n"
          ]
        }
      ]
    },
    {
      "cell_type": "code",
      "source": [
        "# Drop rows with missing values\n",
        "df_dropped = df.dropna()\n",
        "\n",
        "print(\"After Dropping Missing Values:\\n\", df_dropped)"
      ],
      "metadata": {
        "colab": {
          "base_uri": "https://localhost:8080/"
        },
        "id": "kCauUmNjSKCU",
        "outputId": "fac88d81-7b2b-4aea-b9e9-89d05789a6a5"
      },
      "execution_count": null,
      "outputs": [
        {
          "output_type": "stream",
          "name": "stdout",
          "text": [
            "After Dropping Missing Values:\n",
            "    Transaction ID Client Name  Amount Category\n",
            "0               1       Alice  2000.0  Revenue\n"
          ]
        }
      ]
    },
    {
      "cell_type": "code",
      "source": [
        "# Calculate mean for 'Amount' column, excluding missing values\n",
        "mean_value = df['Amount'].mean()\n",
        "\n",
        "# Impute 'Amount' with the mean value without using inplace\n",
        "df['Amount'] = df['Amount'].fillna(mean_value)\n",
        "\n",
        "print(\"DataFrame after Imputing 'Amount' with Mean:\\n\", df)"
      ],
      "metadata": {
        "colab": {
          "base_uri": "https://localhost:8080/"
        },
        "id": "ijnCdPDwVQl3",
        "outputId": "3a8c9051-334c-4baa-84bc-925ba1ed76e7"
      },
      "execution_count": null,
      "outputs": [
        {
          "output_type": "stream",
          "name": "stdout",
          "text": [
            "DataFrame after Imputing 'Amount' with Mean:\n",
            "    Transaction ID Client Name  Amount Category\n",
            "0               1       Alice  2000.0  Revenue\n",
            "1               2         Bob  2000.0  Expense\n",
            "2               3        None  1500.0  Revenue\n",
            "3               4       David  2500.0     None\n",
            "4               5         Eve  2000.0  Expense\n"
          ]
        }
      ]
    },
    {
      "cell_type": "markdown",
      "source": [
        "## Your Project"
      ],
      "metadata": {
        "id": "A-WEglSKghQ3"
      }
    },
    {
      "cell_type": "markdown",
      "source": [
        "**Dataset**"
      ],
      "metadata": {
        "id": "p14u_EZOiViU"
      }
    },
    {
      "cell_type": "code",
      "source": [
        "data = {\n",
        "    'Transaction ID': [101, 102, 103, 104, 105],\n",
        "    'Client Name': ['Alice Ltd', 'Bob Corp', 'Cat Com', 'David & Co', 'Eve LLC'],\n",
        "    'Invoice Amount': [5000, None, 3000, 7000, None],\n",
        "    'Transaction Type': ['Sales', 'Purchase', 'Sales', 'Sales', 'Purchase'],\n",
        "    'Payment Status': ['Paid', 'Unpaid', 'Paid', 'Paid', 'Unpaid'],\n",
        "}\n"
      ],
      "metadata": {
        "id": "peS9uYyeiadp"
      },
      "execution_count": null,
      "outputs": []
    },
    {
      "cell_type": "markdown",
      "source": [
        "**Example code:**"
      ],
      "metadata": {
        "id": "a1xjB-2SibrZ"
      }
    },
    {
      "cell_type": "code",
      "source": [
        "import pandas as pd\n",
        "\n",
        "# Load the Dataset into a Pandas DataFrame and display it\n",
        "data = {\n",
        "    'Transaction ID': [101, 102, 103, 104, 105],\n",
        "    'Client Name': ['Alice Ltd', 'Bob Corp', 'Cat Com', 'David & Co', 'Eve LLC'],\n",
        "    'Invoice Amount': [5000, None, 3000, 7000, None],\n",
        "    'Transaction Type': ['Sales', 'Purchase', 'Sales', 'Sales', 'Purchase'],\n",
        "    'Payment Status': ['Paid', 'Unpaid', 'Paid', 'Paid', 'Unpaid'],\n",
        "}\n",
        "\n",
        "# Create DataFrame\n",
        "df = pd.DataFrame(data)\n",
        "print(\"Initial Dataset:\\n\", df)\n",
        "\n",
        "# Identify Missing Values\n",
        "print(\"\\n Missing Values Per Column:\\n\", df.isna())\n",
        "\n",
        "# Count missing values per column\n",
        "print(\"\\n Summary of Missing Values:\\n\", df.isna().sum())\n",
        "\n",
        "# Handle Missing Values\n",
        "# Replace missing values in the 'Invoice Amount' column with the mean of the column\n",
        "df['Invoice Amount'] = df['Invoice Amount'].fillna(df['Invoice Amount'].mean())\n",
        "\n",
        "print(\"\\n DataFrame After Handling Missing Values:\\n\", df)\n"
      ],
      "metadata": {
        "colab": {
          "base_uri": "https://localhost:8080/"
        },
        "id": "ZtSXhqiZidmu",
        "outputId": "5cf5a4a7-7633-4900-9a1c-f501812665ce"
      },
      "execution_count": null,
      "outputs": [
        {
          "output_type": "stream",
          "name": "stdout",
          "text": [
            "Initial Dataset:\n",
            "    Transaction ID Client Name  Invoice Amount Transaction Type Payment Status\n",
            "0             101   Alice Ltd          5000.0            Sales           Paid\n",
            "1             102    Bob Corp             NaN         Purchase         Unpaid\n",
            "2             103     Cat Com          3000.0            Sales           Paid\n",
            "3             104  David & Co          7000.0            Sales           Paid\n",
            "4             105     Eve LLC             NaN         Purchase         Unpaid\n",
            "\n",
            " Missing Values Per Column:\n",
            "    Transaction ID  Client Name  Invoice Amount  Transaction Type  \\\n",
            "0           False        False           False             False   \n",
            "1           False        False            True             False   \n",
            "2           False        False           False             False   \n",
            "3           False        False           False             False   \n",
            "4           False        False            True             False   \n",
            "\n",
            "   Payment Status  \n",
            "0           False  \n",
            "1           False  \n",
            "2           False  \n",
            "3           False  \n",
            "4           False  \n",
            "\n",
            " Summary of Missing Values:\n",
            " Transaction ID      0\n",
            "Client Name         0\n",
            "Invoice Amount      2\n",
            "Transaction Type    0\n",
            "Payment Status      0\n",
            "dtype: int64\n",
            "DataFrame After Handling Missing Values:\n",
            "    Transaction ID Client Name  Invoice Amount Transaction Type Payment Status\n",
            "0             101   Alice Ltd          5000.0            Sales           Paid\n",
            "1             102    Bob Corp          5000.0         Purchase         Unpaid\n",
            "2             103     Cat Com          3000.0            Sales           Paid\n",
            "3             104  David & Co          7000.0            Sales           Paid\n",
            "4             105     Eve LLC          5000.0         Purchase         Unpaid\n"
          ]
        }
      ]
    },
    {
      "cell_type": "markdown",
      "source": [
        "# Extra: Other Techniques for Data Cleaning in Pandas\n",
        "\n",
        "## 1. Handling Missing Data\n",
        "- `df.isnull()`, `df.notnull()` to detect missing values.\n",
        "- `df.dropna()` to remove rows or columns with missing values.\n",
        "- `df.fillna(value)` to fill missing values with a specific value (e.g., 0, mean, median, or forward/backward fill).\n",
        "- `df.interpolate()` to estimate missing values through interpolation.\n",
        "\n",
        "## 2. Removing Duplicates\n",
        "- `df.duplicated()` to identify duplicate rows.\n",
        "- `df.drop_duplicates()` to remove duplicate rows.\n",
        "\n",
        "## 3. Data Type Conversion\n",
        "- `df.astype()` to convert columns to appropriate data types (e.g., strings to integers, floats to datetime).\n",
        "\n",
        "## 4. String Cleaning\n",
        "- `df['column'].str.strip()` to remove leading/trailing spaces.\n",
        "- `df['column'].str.lower()`, `df['column'].str.upper()` to standardise text case.\n",
        "- `df['column'].str.replace('old', 'new')` to replace values or clean special characters.\n",
        "\n",
        "## 5. Handling Outliers\n",
        "- Identify outliers using statistical methods (e.g., IQR, Z-score).\n",
        "- Remove or cap outliers as necessary.\n",
        "\n",
        "## 6. Renaming Columns\n",
        "- `df.rename(columns={'old_name': 'new_name'})` to rename columns.\n",
        "- `df.columns = df.columns.str.strip()` to clean column names by removing spaces.\n",
        "\n",
        "## 7. Filtering and Subsetting Data\n",
        "- Use conditions (e.g., `df[df['column'] > 0]`) to select valid rows.\n",
        "- Use `query()` method for cleaner syntax in filtering.\n",
        "\n",
        "## 8. Mapping and Replacing Values\n",
        "- `df['column'].map()` to apply a mapping dictionary or function.\n",
        "- `df['column'].replace({'old': 'new'})` to replace specific values.\n",
        "\n",
        "## 9. Normalising and Scaling Data\n",
        "- Standardise numerical data using libraries like `scikit-learn` (e.g., `StandardScaler`, `MinMaxScaler`) when necessary for analysis or machine learning.\n",
        "\n",
        "## 10. Date/Time Cleaning\n",
        "- `pd.to_datetime(df['date_column'])` to ensure proper datetime format.\n",
        "- Extract parts of dates (year, month, day) using the `.dt` accessor.\n",
        "\n",
        "## 11. Combining or Splitting Columns\n",
        "- `df['new_col'] = df['col1'] + df['col2']` for combining columns.\n",
        "- `df['col'].str.split('delimiter', expand=True)` for splitting columns.\n"
      ],
      "metadata": {
        "id": "oOU8mE6IoL_e"
      }
    }
  ]
}