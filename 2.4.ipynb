{
  "nbformat": 4,
  "nbformat_minor": 0,
  "metadata": {
    "colab": {
      "provenance": []
    },
    "kernelspec": {
      "name": "python3",
      "display_name": "Python 3"
    },
    "language_info": {
      "name": "python"
    }
  },
  "cells": [
    {
      "cell_type": "markdown",
      "source": [
        "# 2.4 Arithmetic Operations"
      ],
      "metadata": {
        "id": "jGuOOPbrJMt9"
      }
    },
    {
      "cell_type": "markdown",
      "source": [
        "## Key Concepts"
      ],
      "metadata": {
        "id": "-cHy2JqpJTnu"
      }
    },
    {
      "cell_type": "code",
      "source": [
        "a = 1 + 2 # a = 3\n",
        "expenses = 10000 + 2000 # expenses = 12000"
      ],
      "metadata": {
        "id": "55lpnQ_iu7oR"
      },
      "execution_count": null,
      "outputs": []
    },
    {
      "cell_type": "code",
      "source": [
        "b = 5 - 2   # b = 3\n",
        "profit = 1200 - 800   # profit = 400"
      ],
      "metadata": {
        "id": "ukR0Plm52f3E"
      },
      "execution_count": null,
      "outputs": []
    },
    {
      "cell_type": "code",
      "source": [
        "c = 4 * 3 # c = 12\n",
        "interest = 1000 * 0.05  # interest = 50"
      ],
      "metadata": {
        "id": "OAvEQ-3tu_Tf"
      },
      "execution_count": null,
      "outputs": []
    },
    {
      "cell_type": "code",
      "source": [
        "d = 10 / 2  # d = 5\n",
        "average_cost = 500 / 5  # average_cost = 100"
      ],
      "metadata": {
        "id": "bR5Q0_8cvAtp"
      },
      "execution_count": null,
      "outputs": []
    },
    {
      "cell_type": "code",
      "source": [
        "e = 2 ** 3  # e = 8\n",
        "compound_interest = 1000 * (1.05 ** 2) # compound_interest = 1102.5\n"
      ],
      "metadata": {
        "id": "fpDqa3rKvCuJ"
      },
      "execution_count": null,
      "outputs": []
    },
    {
      "cell_type": "markdown",
      "source": [
        "## Follow-Along Activity"
      ],
      "metadata": {
        "id": "d2mgonJqu5VH"
      }
    },
    {
      "cell_type": "code",
      "execution_count": null,
      "metadata": {
        "colab": {
          "base_uri": "https://localhost:8080/"
        },
        "id": "ayq_A-u-YW-7",
        "outputId": "c813a29f-1431-4d2c-eae9-d1ca2a3a4d39"
      },
      "outputs": [
        {
          "output_type": "stream",
          "name": "stdout",
          "text": [
            "125000\n"
          ]
        }
      ],
      "source": [
        "# Revenue from two product lines\n",
        "revenue_product1 = 50000\n",
        "revenue_product2 = 75000\n",
        "\n",
        "# Total revenue calculation\n",
        "total_revenue = revenue_product1 + revenue_product2\n",
        "print(total_revenue)"
      ]
    },
    {
      "cell_type": "code",
      "source": [
        "# Revenue and expenses\n",
        "revenue = 100000\n",
        "expenses = 60000\n",
        "\n",
        "# Net income calculation\n",
        "net_income = revenue - expenses\n",
        "print(\"Net Income:\", net_income)"
      ],
      "metadata": {
        "colab": {
          "base_uri": "https://localhost:8080/"
        },
        "id": "o7mxWl4vaoAH",
        "outputId": "7ef36fd6-64f1-48e1-96e0-0c02651e8b3f"
      },
      "execution_count": null,
      "outputs": [
        {
          "output_type": "stream",
          "name": "stdout",
          "text": [
            "Net Income: 40000\n"
          ]
        }
      ]
    },
    {
      "cell_type": "code",
      "source": [
        "# Principal amount and interest rate\n",
        "principal = 10000  # (£)\n",
        "interest_rate = 0.05  # 5% annual interest rate\n",
        "\n",
        "# Interest calculation\n",
        "interest = principal * interest_rate\n",
        "print(\"Interest:\", interest)\n"
      ],
      "metadata": {
        "colab": {
          "base_uri": "https://localhost:8080/"
        },
        "id": "7dNVj67iap_6",
        "outputId": "a0ffe7dc-1db6-4061-b188-410cf4e55bbe"
      },
      "execution_count": null,
      "outputs": [
        {
          "output_type": "stream",
          "name": "stdout",
          "text": [
            "Interest: 500.0\n"
          ]
        }
      ]
    },
    {
      "cell_type": "code",
      "source": [
        "# Net income and revenue\n",
        "net_income = 40000\n",
        "revenue = 100000\n",
        "\n",
        "# Profit margin calculation\n",
        "profit_margin = (net_income / revenue) * 100\n",
        "print(\"Profit Margin (%):\", profit_margin)\n"
      ],
      "metadata": {
        "colab": {
          "base_uri": "https://localhost:8080/"
        },
        "id": "CFTN_CShasM4",
        "outputId": "c1b97703-0780-4b69-8718-e61efd0205c4"
      },
      "execution_count": null,
      "outputs": [
        {
          "output_type": "stream",
          "name": "stdout",
          "text": [
            "Profit Margin (%): 40.0\n"
          ]
        }
      ]
    },
    {
      "cell_type": "code",
      "source": [
        "# Compound interest calculation over 2 years\n",
        "principal = 1000\n",
        "rate = 0.05  # 5%\n",
        "periods = 2\n",
        "\n",
        "# Future value calculation\n",
        "future_value = principal * (1 + rate) ** periods\n",
        "print(\"Future Value:\", future_value)"
      ],
      "metadata": {
        "colab": {
          "base_uri": "https://localhost:8080/"
        },
        "id": "dQtrgUHycTTf",
        "outputId": "74edbfe7-212a-4940-ba2c-26730af281eb"
      },
      "execution_count": null,
      "outputs": [
        {
          "output_type": "stream",
          "name": "stdout",
          "text": [
            "Future Value: 1102.5\n"
          ]
        }
      ]
    },
    {
      "cell_type": "markdown",
      "source": [
        "## Your Project"
      ],
      "metadata": {
        "id": "30mM04dNJIsc"
      }
    },
    {
      "cell_type": "code",
      "source": [
        "# Define input values for the analysis\n",
        "sales_q1 = 30000             # Sales in Quarter 1 (£)\n",
        "sales_q2 = 45000             # Sales in Quarter 2 (£)\n",
        "total_expenses = 45000       # Total expenses for the period (£)\n",
        "tax_rate = 0.20              # Tax rate (20%) represented as a decimal\n",
        "\n",
        "# 1: Calculate total sales from both quarters\n",
        "total_sales = sales_q1 + sales_q2\n",
        "print(\"Total Sales:\", total_sales)  # Expected output: 75000\n",
        "\n",
        "# 2: Calculate gross income by subtracting expenses from total sales\n",
        "gross_income = total_sales - total_expenses\n",
        "print(\"Gross Income:\", gross_income)  # Expected output: 30000\n",
        "\n",
        "# 3: Calculate tax amount by multiplying gross income by tax rate\n",
        "tax_amount = gross_income * tax_rate\n",
        "print(\"Tax Amount:\", tax_amount)  # Expected output: 6000\n",
        "\n",
        "# 4: Calculate profit margin (gross income ÷ total sales × 100)\n",
        "profit_margin = (gross_income / total_sales) * 100\n",
        "print(\"Profit Margin (%):\", profit_margin)  # Expected output: 40.0\n",
        "\n",
        "# 5: Estimate projected sales after 2 years of 5% annual growth using exponentiation\n",
        "annual_growth_rate = 0.05    # 5% annual growth rate\n",
        "years = 2                    # Compounded over 2 years\n",
        "\n",
        "projected_sales = total_sales * (1 + annual_growth_rate) ** years\n",
        "print(\"Projected Sales (After 2 Years):\", projected_sales)\n"
      ],
      "metadata": {
        "colab": {
          "base_uri": "https://localhost:8080/"
        },
        "id": "PkeOHOIUJIBD",
        "outputId": "36f175f0-8e60-40f1-c060-3cfdd4ad23f3"
      },
      "execution_count": null,
      "outputs": [
        {
          "output_type": "stream",
          "name": "stdout",
          "text": [
            "Total Sales: 75000\n",
            "Gross Income: 30000\n",
            "Tax Amount: 6000.0\n",
            "Profit Margin (%): 40.0\n",
            "Projected Sales (After 2 Years): 82687.5\n"
          ]
        }
      ]
    }
  ]
}