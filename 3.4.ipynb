{
  "nbformat": 4,
  "nbformat_minor": 0,
  "metadata": {
    "colab": {
      "provenance": []
    },
    "kernelspec": {
      "name": "python3",
      "display_name": "Python 3"
    },
    "language_info": {
      "name": "python"
    }
  },
  "cells": [
    {
      "cell_type": "markdown",
      "source": [
        "## Key Concepts"
      ],
      "metadata": {
        "id": "KWOBZTy36f4K"
      }
    },
    {
      "cell_type": "code",
      "execution_count": null,
      "metadata": {
        "colab": {
          "base_uri": "https://localhost:8080/",
          "height": 146
        },
        "id": "qQHyk6OLUXHA",
        "outputId": "2039801d-b648-41fa-81d4-617b06fa59e2"
      },
      "outputs": [
        {
          "output_type": "error",
          "ename": "ZeroDivisionError",
          "evalue": "division by zero",
          "traceback": [
            "\u001b[0;31m---------------------------------------------------------------------------\u001b[0m",
            "\u001b[0;31mZeroDivisionError\u001b[0m                         Traceback (most recent call last)",
            "\u001b[0;32m<ipython-input-1-b7ca4c095d4f>\u001b[0m in \u001b[0;36m<cell line: 0>\u001b[0;34m()\u001b[0m\n\u001b[0;32m----> 1\u001b[0;31m \u001b[0mx\u001b[0m \u001b[0;34m=\u001b[0m \u001b[0;36m10\u001b[0m \u001b[0;34m/\u001b[0m \u001b[0;36m0\u001b[0m\u001b[0;34m\u001b[0m\u001b[0;34m\u001b[0m\u001b[0m\n\u001b[0m",
            "\u001b[0;31mZeroDivisionError\u001b[0m: division by zero"
          ]
        }
      ],
      "source": [
        "x = 10 / 0"
      ]
    },
    {
      "cell_type": "code",
      "source": [
        "amount = int(\"1O00\")\n"
      ],
      "metadata": {
        "colab": {
          "base_uri": "https://localhost:8080/",
          "height": 146
        },
        "id": "jBp6P_8rWk7g",
        "outputId": "5dd49b05-238f-47fe-fce2-da52fe201f33"
      },
      "execution_count": null,
      "outputs": [
        {
          "output_type": "error",
          "ename": "ValueError",
          "evalue": "invalid literal for int() with base 10: '1O00'",
          "traceback": [
            "\u001b[0;31m---------------------------------------------------------------------------\u001b[0m",
            "\u001b[0;31mValueError\u001b[0m                                Traceback (most recent call last)",
            "\u001b[0;32m<ipython-input-2-1fe8e48339f1>\u001b[0m in \u001b[0;36m<cell line: 0>\u001b[0;34m()\u001b[0m\n\u001b[0;32m----> 1\u001b[0;31m \u001b[0mamount\u001b[0m \u001b[0;34m=\u001b[0m \u001b[0mint\u001b[0m\u001b[0;34m(\u001b[0m\u001b[0;34m\"1O00\"\u001b[0m\u001b[0;34m)\u001b[0m\u001b[0;34m\u001b[0m\u001b[0;34m\u001b[0m\u001b[0m\n\u001b[0m",
            "\u001b[0;31mValueError\u001b[0m: invalid literal for int() with base 10: '1O00'"
          ]
        }
      ]
    },
    {
      "cell_type": "code",
      "source": [
        "net_profit = 5000\n",
        "total_assets = 0\n",
        "return_on_assets = net_profit / total_assets\n"
      ],
      "metadata": {
        "colab": {
          "base_uri": "https://localhost:8080/",
          "height": 183
        },
        "id": "SraQ9YOaXAf6",
        "outputId": "3682be8b-5164-41a1-c992-2d7569a466a5"
      },
      "execution_count": null,
      "outputs": [
        {
          "output_type": "error",
          "ename": "ZeroDivisionError",
          "evalue": "division by zero",
          "traceback": [
            "\u001b[0;31m---------------------------------------------------------------------------\u001b[0m",
            "\u001b[0;31mZeroDivisionError\u001b[0m                         Traceback (most recent call last)",
            "\u001b[0;32m<ipython-input-3-5da83fcc1f57>\u001b[0m in \u001b[0;36m<cell line: 0>\u001b[0;34m()\u001b[0m\n\u001b[1;32m      1\u001b[0m \u001b[0mnet_profit\u001b[0m \u001b[0;34m=\u001b[0m \u001b[0;36m5000\u001b[0m\u001b[0;34m\u001b[0m\u001b[0;34m\u001b[0m\u001b[0m\n\u001b[1;32m      2\u001b[0m \u001b[0mtotal_assets\u001b[0m \u001b[0;34m=\u001b[0m \u001b[0;36m0\u001b[0m\u001b[0;34m\u001b[0m\u001b[0;34m\u001b[0m\u001b[0m\n\u001b[0;32m----> 3\u001b[0;31m \u001b[0mreturn_on_assets\u001b[0m \u001b[0;34m=\u001b[0m \u001b[0mnet_profit\u001b[0m \u001b[0;34m/\u001b[0m \u001b[0mtotal_assets\u001b[0m\u001b[0;34m\u001b[0m\u001b[0;34m\u001b[0m\u001b[0m\n\u001b[0m",
            "\u001b[0;31mZeroDivisionError\u001b[0m: division by zero"
          ]
        }
      ]
    },
    {
      "cell_type": "code",
      "source": [
        "try:\n",
        "    revenue = int(\"abc\")\n",
        "except ValueError:\n",
        "    print(\"Invalid input: expected a number.\")\n"
      ],
      "metadata": {
        "id": "sa4PRvU_XVqq",
        "colab": {
          "base_uri": "https://localhost:8080/"
        },
        "outputId": "9d60d2a7-c855-4def-e72b-2142643748fd"
      },
      "execution_count": null,
      "outputs": [
        {
          "output_type": "stream",
          "name": "stdout",
          "text": [
            "Invalid input: expected a number.\n"
          ]
        }
      ]
    },
    {
      "cell_type": "markdown",
      "source": [
        "## Follow-Along Activity"
      ],
      "metadata": {
        "id": "EWpq7mKt6ToW"
      }
    },
    {
      "cell_type": "code",
      "source": [
        "# Debt-to-equity calculation using user input (no error handling)\n",
        "equity_input = input(\"Enter equity (£): \")\n",
        "debt_input   = input(\"Enter debt   (£): \")\n",
        "\n",
        "equity = float(equity_input)\n",
        "debt   = float(debt_input)\n",
        "\n",
        "ratio = debt / equity\n",
        "print(f\"Debt-to-Equity Ratio: {ratio:.2f}\")"
      ],
      "metadata": {
        "colab": {
          "base_uri": "https://localhost:8080/",
          "height": 228
        },
        "id": "kqIRN7FMsZQG",
        "outputId": "c9ae96cf-87bc-475b-bbed-f7cf00c44bdb"
      },
      "execution_count": null,
      "outputs": [
        {
          "name": "stdout",
          "output_type": "stream",
          "text": [
            "Enter equity (£): 0\n",
            "Enter debt   (£): 20000\n"
          ]
        },
        {
          "output_type": "error",
          "ename": "ZeroDivisionError",
          "evalue": "float division by zero",
          "traceback": [
            "\u001b[0;31m---------------------------------------------------------------------------\u001b[0m",
            "\u001b[0;31mZeroDivisionError\u001b[0m                         Traceback (most recent call last)",
            "\u001b[0;32m<ipython-input-18-e8dae45862e7>\u001b[0m in \u001b[0;36m<cell line: 0>\u001b[0;34m()\u001b[0m\n\u001b[1;32m      6\u001b[0m \u001b[0mdebt\u001b[0m   \u001b[0;34m=\u001b[0m \u001b[0mfloat\u001b[0m\u001b[0;34m(\u001b[0m\u001b[0mdebt_input\u001b[0m\u001b[0;34m)\u001b[0m\u001b[0;34m\u001b[0m\u001b[0;34m\u001b[0m\u001b[0m\n\u001b[1;32m      7\u001b[0m \u001b[0;34m\u001b[0m\u001b[0m\n\u001b[0;32m----> 8\u001b[0;31m \u001b[0mratio\u001b[0m \u001b[0;34m=\u001b[0m \u001b[0mdebt\u001b[0m \u001b[0;34m/\u001b[0m \u001b[0mequity\u001b[0m\u001b[0;34m\u001b[0m\u001b[0;34m\u001b[0m\u001b[0m\n\u001b[0m\u001b[1;32m      9\u001b[0m \u001b[0mprint\u001b[0m\u001b[0;34m(\u001b[0m\u001b[0;34mf\"Debt-to-Equity Ratio: {ratio:.2f}\"\u001b[0m\u001b[0;34m)\u001b[0m\u001b[0;34m\u001b[0m\u001b[0;34m\u001b[0m\u001b[0m\n",
            "\u001b[0;31mZeroDivisionError\u001b[0m: float division by zero"
          ]
        }
      ]
    },
    {
      "cell_type": "code",
      "source": [
        "# Debt-to-equity calculation using user input (no error handling)\n",
        "equity_input = input(\"Enter equity (£): \")\n",
        "debt_input   = input(\"Enter debt   (£): \")\n",
        "\n",
        "equity = float(equity_input)\n",
        "debt   = float(debt_input)\n",
        "\n",
        "ratio = debt / equity\n",
        "print(f\"Debt-to-Equity Ratio: {ratio:.2f}\")"
      ],
      "metadata": {
        "colab": {
          "base_uri": "https://localhost:8080/",
          "height": 245
        },
        "id": "QdHXe_-4bY77",
        "outputId": "0dc83e53-97a6-49ce-d97d-36ac7eea1b35"
      },
      "execution_count": null,
      "outputs": [
        {
          "name": "stdout",
          "output_type": "stream",
          "text": [
            "Enter equity (£): a\n",
            "Enter debt   (£): %\n"
          ]
        },
        {
          "output_type": "error",
          "ename": "ValueError",
          "evalue": "could not convert string to float: 'a'",
          "traceback": [
            "\u001b[0;31m---------------------------------------------------------------------------\u001b[0m",
            "\u001b[0;31mValueError\u001b[0m                                Traceback (most recent call last)",
            "\u001b[0;32m<ipython-input-10-f0ff1e35a68d>\u001b[0m in \u001b[0;36m<cell line: 0>\u001b[0;34m()\u001b[0m\n\u001b[1;32m      3\u001b[0m \u001b[0mdebt_input\u001b[0m   \u001b[0;34m=\u001b[0m \u001b[0minput\u001b[0m\u001b[0;34m(\u001b[0m\u001b[0;34m\"Enter debt   (£): \"\u001b[0m\u001b[0;34m)\u001b[0m\u001b[0;34m\u001b[0m\u001b[0;34m\u001b[0m\u001b[0m\n\u001b[1;32m      4\u001b[0m \u001b[0;34m\u001b[0m\u001b[0m\n\u001b[0;32m----> 5\u001b[0;31m \u001b[0mequity\u001b[0m \u001b[0;34m=\u001b[0m \u001b[0mfloat\u001b[0m\u001b[0;34m(\u001b[0m\u001b[0mequity_input\u001b[0m\u001b[0;34m)\u001b[0m\u001b[0;34m\u001b[0m\u001b[0;34m\u001b[0m\u001b[0m\n\u001b[0m\u001b[1;32m      6\u001b[0m \u001b[0mdebt\u001b[0m   \u001b[0;34m=\u001b[0m \u001b[0mfloat\u001b[0m\u001b[0;34m(\u001b[0m\u001b[0mdebt_input\u001b[0m\u001b[0;34m)\u001b[0m\u001b[0;34m\u001b[0m\u001b[0;34m\u001b[0m\u001b[0m\n\u001b[1;32m      7\u001b[0m \u001b[0;34m\u001b[0m\u001b[0m\n",
            "\u001b[0;31mValueError\u001b[0m: could not convert string to float: 'a'"
          ]
        }
      ]
    },
    {
      "cell_type": "code",
      "source": [
        "try:\n",
        "   equity = float(equity_input)\n",
        "   debt   = float(debt_input)\n",
        "   ratio  = debt / equity\n",
        "   print(f\"Debt-to-Equity Ratio: {ratio:.2f}\")\n",
        "\n",
        "except ZeroDivisionError:\n",
        "   print(\"Error: equity is zero – ratio cannot be calculated.\")\n",
        "\n",
        "except ValueError:\n",
        "   print(\"Error: please enter numbers only.\")"
      ],
      "metadata": {
        "colab": {
          "base_uri": "https://localhost:8080/"
        },
        "id": "EaubbkMAd_zX",
        "outputId": "8548cc6c-52e4-4fa9-d2c7-54a3549aef90"
      },
      "execution_count": null,
      "outputs": [
        {
          "output_type": "stream",
          "name": "stdout",
          "text": [
            "Enter equity (£): a\n",
            "Enter debt   (£): %\n",
            "Error: please enter numbers only.\n"
          ]
        }
      ]
    },
    {
      "cell_type": "markdown",
      "source": [
        "## Your Project"
      ],
      "metadata": {
        "id": "0rEQJVYspXFM"
      }
    },
    {
      "cell_type": "code",
      "source": [
        "# Return on Equity (ROE) calculator with basic error handling\n",
        "\n",
        "# Prompt the user to enter Net Profit and Shareholders' Equity\n",
        "net_profit_input          = input(\"Enter Net Profit (£): \")\n",
        "shareholders_equity_input = input(\"Enter Shareholders' Equity (£): \")\n",
        "\n",
        "try:\n",
        "    # Convert input values from strings to floats\n",
        "    # May raise ValueError if the input is not a number\n",
        "    net_profit          = float(net_profit_input)\n",
        "    shareholders_equity = float(shareholders_equity_input)\n",
        "\n",
        "    # Calculate ROE\n",
        "    # May raise ZeroDivisionError if shareholders' equity is zero\n",
        "    roe = net_profit / shareholders_equity\n",
        "\n",
        "    # Display the calculated ROE, formatted to two decimal places\n",
        "    print(f\"Return on Equity: {roe:.2f}\")\n",
        "\n",
        "# Handle the case where shareholders' equity is zero to prevent division by zero\n",
        "except ZeroDivisionError:\n",
        "    print(\"Error: shareholders' equity is zero – ROE cannot be calculated.\")\n",
        "\n",
        "# Handle the case where input values are not valid numbers\n",
        "except ValueError:\n",
        "    print(\"Error: please enter numbers only.\")\n"
      ],
      "metadata": {
        "colab": {
          "base_uri": "https://localhost:8080/"
        },
        "id": "2gi6A8bGpYuJ",
        "outputId": "ed564096-b838-450c-849d-d034bb5171b0"
      },
      "execution_count": null,
      "outputs": [
        {
          "output_type": "stream",
          "name": "stdout",
          "text": [
            "Enter Net Profit (£): 1000\n",
            "Enter Shareholders' Equity (£): 0\n",
            "Error: shareholders' equity is zero – ROE cannot be calculated.\n"
          ]
        }
      ]
    },
    {
      "cell_type": "markdown",
      "source": [
        "# Extra\n",
        "\n",
        " There are other error types besides ValueError and ZeroDivisionError that are less common when using Python for accounting and finance.\n"
      ],
      "metadata": {
        "id": "L_vU5eXvuU2s"
      }
    },
    {
      "cell_type": "markdown",
      "source": [
        "\n",
        "## TypeError – Incompatible Data Types\n",
        "\n",
        "**Definition**  \n",
        "Raised when an operation is applied to objects of inappropriate type.\n",
        "\n",
        "**Example:**\n",
        "```python\n",
        "quantity = 100          # int\n",
        "price    = \"12.75\"      # str – data imported as text\n",
        "trade_value = quantity * price      # TypeError\n",
        "```\n",
        "\n",
        "**Explanation and Fix**  \n",
        "This error occurs because the code tries to multiply an integer by a string. Python cannot perform arithmetic between these types.  \n",
        "**Fix:** Convert the string to a number before performing the calculation:\n",
        "\n",
        "```python\n",
        "quantity = 100\n",
        "price = float(\"12.75\")\n",
        "trade_value = quantity * price\n",
        "```\n",
        "\n",
        "---\n",
        "\n",
        "## IndexError – Index Out of Range\n",
        "\n",
        "**Definition**  \n",
        "Occurs when you try to access a list or array position that does not exist.\n",
        "\n",
        "**Example:**\n",
        "```python\n",
        "cash_flows = [1_200, 1_350, 1_500]        # three months\n",
        "for i in range(4):                        # 0,1,2,3\n",
        "    print(cash_flows[i])                  # IndexError on i = 3\n",
        "```\n",
        "\n",
        "**Explanation and Fix**  \n",
        "This error occurs because the loop tries to access `cash_flows[3]`, but the list only has indices 0 to 2.  \n",
        "**Fix:** Use `len(cash_flows)` in the range or iterate directly over the list:\n",
        "\n",
        "```python\n",
        "for i in range(len(cash_flows)):\n",
        "    print(cash_flows[i])\n",
        "```\n",
        "\n",
        "Or:\n",
        "\n",
        "```python\n",
        "for cash_flow in cash_flows:\n",
        "    print(cash_flow)\n",
        "```\n",
        "\n",
        "---\n",
        "\n",
        "## KeyError – Missing Dictionary or Column Key\n",
        "\n",
        "**Definition**  \n",
        "Raised when the requested key is not present in a dictionary-like object.\n",
        "\n",
        "**Example:**\n",
        "```python\n",
        "import pandas as pd\n",
        "df = pd.read_csv(\"trial_balance.csv\")\n",
        "total_assets = df[\"TotalAssets\"]          # KeyError: 'TotalAssets'\n",
        "```\n",
        "\n",
        "**Explanation and Fix**  \n",
        "This error occurs because `\"TotalAssets\"` is not a valid column name in the DataFrame.  \n",
        "**Fix:** Check column names with `df.columns` or use `df.get(\"TotalAssets\")`:\n",
        "\n",
        "```python\n",
        "print(df.columns)\n",
        "total_assets = df.get(\"TotalAssets\")\n",
        "```\n",
        "\n",
        "---\n",
        "\n",
        "## FileNotFoundError – Missing File or Path\n",
        "\n",
        "**Definition**  \n",
        "Happens when code attempts to open a file that the operating system cannot find.\n",
        "\n",
        "**Example:**\n",
        "```python\n",
        "with open(\"outputs/2025-04-25-ledger.csv\") as f:   # FileNotFoundError\n",
        "    ledger = f.read()\n",
        "```\n",
        "\n",
        "**Explanation and Fix**  \n",
        "This error occurs because the file path is incorrect or the file does not exist.  \n",
        "**Fix:** Verify the file path or use `try-except` to handle the error:\n",
        "\n",
        "```python\n",
        "try:\n",
        "    with open(\"outputs/2025-04-25-ledger.csv\") as f:\n",
        "        ledger = f.read()\n",
        "except FileNotFoundError:\n",
        "    print(\"File not found. Please check the file path.\")\n",
        "```\n",
        "\n",
        "---\n",
        "\n",
        "## OverflowError – Number Too Large for Python’s Float\n",
        "\n",
        "**Definition**  \n",
        "Raised when a calculation produces a floating-point number beyond the platform’s range.\n",
        "\n",
        "**Example:**\n",
        "```python\n",
        "import math\n",
        "factor = math.exp(1_000)       # OverflowError on most systems\n",
        "```\n",
        "\n",
        "**Explanation and Fix**  \n",
        "This error occurs because `math.exp(1_000)` produces a number too large for Python’s floating-point type.  \n",
        "**Fix:** Scale inputs, work in logarithms, or use the `decimal` module:\n",
        "\n",
        "```python\n",
        "from decimal import Decimal, getcontext\n",
        "getcontext().prec = 100\n",
        "factor = Decimal(1).exp()\n",
        "```\n",
        "\n",
        "---\n",
        "\n",
        "## ImportError (and ModuleNotFoundError) – Cannot Load a Library\n",
        "\n",
        "**Definition**  \n",
        "Python cannot locate the module or package requested by an `import` statement.\n",
        "\n",
        "**Example:**\n",
        "```python\n",
        "import pandas_datareader as pdr    # ModuleNotFoundError\n",
        "```\n",
        "\n",
        "**Explanation and Fix**  \n",
        "This error occurs because the package is not installed.  \n",
        "**Fix:** Install the missing package with:\n",
        "\n",
        "```bash\n",
        "pip install pandas-datareader\n",
        "```\n",
        "\n",
        "Or include a `requirements.txt` file for environment setup.\n",
        "\n",
        "---\n",
        "\n",
        "## AttributeError – Object Lacks the Requested Attribute\n",
        "\n",
        "**Definition**  \n",
        "Raised when you attempt to access a method or property that an object does not possess.\n",
        "\n",
        "**Example:**\n",
        "```python\n",
        "import pandas as pd\n",
        "df = pd.DataFrame({\"price\": [10, 12, 11]})\n",
        "median = df.median()          # OK\n",
        "median = df.median.mean()     # AttributeError: 'float' object has no attribute 'mean'\n",
        "```\n",
        "\n",
        "**Explanation and Fix**  \n",
        "This error occurs because `df.median()` returns a float, which does not have a `.mean()` method.  \n",
        "**Fix:** Confirm the object type with `type()` or `dir()`:\n",
        "\n",
        "```python\n",
        "print(type(median))\n",
        "```\n",
        "\n",
        "---\n",
        "\n"
      ],
      "metadata": {
        "id": "i5kLbylLuaH6"
      }
    }
  ]
}