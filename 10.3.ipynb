{
  "nbformat": 4,
  "nbformat_minor": 0,
  "metadata": {
    "colab": {
      "provenance": []
    },
    "kernelspec": {
      "name": "python3",
      "display_name": "Python 3"
    },
    "language_info": {
      "name": "python"
    }
  },
  "cells": [
    {
      "cell_type": "code",
      "source": [
        "<a href=\"report.pdf\">Download the PDF report</a>"
      ],
      "metadata": {
        "id": "1D8dMBHKDNhu"
      },
      "execution_count": null,
      "outputs": []
    },
    {
      "cell_type": "markdown",
      "source": [
        "# Follow-Along Activity"
      ],
      "metadata": {
        "id": "2YhW4aCsDHBB"
      }
    },
    {
      "cell_type": "code",
      "execution_count": 1,
      "metadata": {
        "id": "O14HPdujZWtY"
      },
      "outputs": [],
      "source": [
        "from bs4 import BeautifulSoup\n",
        "import requests\n",
        "import time\n",
        "\n",
        "url = \"https://drmichaelguo.github.io/demo-web-scraping-files/\"\n",
        "headers = {'User-Agent': 'Mozilla/5.0 (compatible; WebScrapingTutorial/1.0)'}  # identify scraper\n",
        "response = requests.get(url, headers=headers)\n",
        "\n",
        "# Handle request errors\n",
        "if response.status_code != 200:\n",
        "   print(f\"Request failed with status code: {response.status_code}\")\n",
        "   exit()\n",
        "\n",
        "# Rate limiting\n",
        "time.sleep(1)  # pause before next request\n",
        "\n",
        "html_content = response.text\n"
      ]
    },
    {
      "cell_type": "code",
      "source": [
        "soup = BeautifulSoup(html_content, \"html.parser\")\n",
        "links = soup.find_all(\"a\")\n",
        "\n",
        "file_links = []\n",
        "for link in links:\n",
        "    href = link.get(\"href\")\n",
        "    if href and (\n",
        "        href.endswith(\".docx\") or\n",
        "        href.endswith(\".xlsx\") or\n",
        "        href.endswith(\".pdf\")\n",
        "    ):\n",
        "        file_links.append(url + href)\n"
      ],
      "metadata": {
        "id": "gDjKzlGpZgO2"
      },
      "execution_count": 2,
      "outputs": []
    },
    {
      "cell_type": "code",
      "source": [
        "import os\n",
        "os.makedirs(\"downloaded_files\", exist_ok=True)\n",
        "\n",
        "for file_url in file_links:\n",
        "    filename = file_url.split(\"/\")[-1]\n",
        "    response = requests.get(file_url)\n",
        "    f = open(os.path.join(\"downloaded_files\", filename), \"wb\")\n",
        "    f.write(response.content)\n",
        "    f.close()"
      ],
      "metadata": {
        "id": "jNFjDIFNb907"
      },
      "execution_count": 3,
      "outputs": []
    },
    {
      "cell_type": "code",
      "source": [
        "import shutil\n",
        "from google.colab import files\n",
        "\n",
        "shutil.make_archive(\"all_downloads\", 'zip', \"downloaded_files\")\n",
        "files.download(\"all_downloads.zip\")\n",
        "\n",
        "print(\"The zip has been successfully downloaded to the default download folder.\")\n"
      ],
      "metadata": {
        "colab": {
          "base_uri": "https://localhost:8080/",
          "height": 34
        },
        "id": "9m8oAMt3czyq",
        "outputId": "d6abb683-a248-4a9c-cbcb-6ed20dd65036"
      },
      "execution_count": 4,
      "outputs": [
        {
          "output_type": "display_data",
          "data": {
            "text/plain": [
              "<IPython.core.display.Javascript object>"
            ],
            "application/javascript": [
              "\n",
              "    async function download(id, filename, size) {\n",
              "      if (!google.colab.kernel.accessAllowed) {\n",
              "        return;\n",
              "      }\n",
              "      const div = document.createElement('div');\n",
              "      const label = document.createElement('label');\n",
              "      label.textContent = `Downloading \"${filename}\": `;\n",
              "      div.appendChild(label);\n",
              "      const progress = document.createElement('progress');\n",
              "      progress.max = size;\n",
              "      div.appendChild(progress);\n",
              "      document.body.appendChild(div);\n",
              "\n",
              "      const buffers = [];\n",
              "      let downloaded = 0;\n",
              "\n",
              "      const channel = await google.colab.kernel.comms.open(id);\n",
              "      // Send a message to notify the kernel that we're ready.\n",
              "      channel.send({})\n",
              "\n",
              "      for await (const message of channel.messages) {\n",
              "        // Send a message to notify the kernel that we're ready.\n",
              "        channel.send({})\n",
              "        if (message.buffers) {\n",
              "          for (const buffer of message.buffers) {\n",
              "            buffers.push(buffer);\n",
              "            downloaded += buffer.byteLength;\n",
              "            progress.value = downloaded;\n",
              "          }\n",
              "        }\n",
              "      }\n",
              "      const blob = new Blob(buffers, {type: 'application/binary'});\n",
              "      const a = document.createElement('a');\n",
              "      a.href = window.URL.createObjectURL(blob);\n",
              "      a.download = filename;\n",
              "      div.appendChild(a);\n",
              "      a.click();\n",
              "      div.remove();\n",
              "    }\n",
              "  "
            ]
          },
          "metadata": {}
        },
        {
          "output_type": "display_data",
          "data": {
            "text/plain": [
              "<IPython.core.display.Javascript object>"
            ],
            "application/javascript": [
              "download(\"download_6c36c6be-f7ce-4841-8154-feb318a57fdb\", \"all_downloads.zip\", 366892)"
            ]
          },
          "metadata": {}
        },
        {
          "output_type": "stream",
          "name": "stdout",
          "text": [
            "The zip has been successfully downloaded to the default download folder.\n"
          ]
        }
      ]
    },
    {
      "cell_type": "code",
      "source": [
        "import pandas as pd  # Required for pd.Timestamp\n",
        "\n",
        "print(f\"Downloaded {len(file_links)} files from {url} on {pd.Timestamp.now()}\")\n"
      ],
      "metadata": {
        "colab": {
          "base_uri": "https://localhost:8080/"
        },
        "id": "-EoJwM1-D95-",
        "outputId": "b0b67baa-296f-42b2-abdf-8256fb4ff1f6"
      },
      "execution_count": 5,
      "outputs": [
        {
          "output_type": "stream",
          "name": "stdout",
          "text": [
            "Downloaded 30 files from https://drmichaelguo.github.io/demo-web-scraping-files/ on 2025-08-03 09:51:36.910676\n"
          ]
        }
      ]
    }
  ]
}