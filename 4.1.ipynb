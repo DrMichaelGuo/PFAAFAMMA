{
  "nbformat": 4,
  "nbformat_minor": 0,
  "metadata": {
    "colab": {
      "provenance": []
    },
    "kernelspec": {
      "name": "python3",
      "display_name": "Python 3"
    },
    "language_info": {
      "name": "python"
    }
  },
  "cells": [
    {
      "cell_type": "markdown",
      "source": [
        "# Follow-Along Activity"
      ],
      "metadata": {
        "id": "0vKpRDq2MfvQ"
      }
    },
    {
      "cell_type": "code",
      "execution_count": null,
      "metadata": {
        "colab": {
          "base_uri": "https://localhost:8080/"
        },
        "id": "E21npKUYKvOO",
        "outputId": "34feb25d-369b-4d6f-d813-f2ab193c7d5c"
      },
      "outputs": [
        {
          "output_type": "stream",
          "name": "stdout",
          "text": [
            "[120, 150, 140, 130, 160, 145, 155, 148, 149, 152, 158, 162]\n"
          ]
        }
      ],
      "source": [
        "monthly_revenues = [120, 150, 140, 130, 160, 145, 155, 148, 149, 152, 158, 162]\n",
        "\n",
        "print(monthly_revenues)"
      ]
    },
    {
      "cell_type": "code",
      "source": [
        "january_revenue = monthly_revenues[0] # first item\n",
        "print(january_revenue)"
      ],
      "metadata": {
        "colab": {
          "base_uri": "https://localhost:8080/"
        },
        "id": "nWWBUhJkLqYX",
        "outputId": "29ad4eb7-7d84-4993-d540-6780e47d7b71"
      },
      "execution_count": null,
      "outputs": [
        {
          "output_type": "stream",
          "name": "stdout",
          "text": [
            "120\n"
          ]
        }
      ]
    },
    {
      "cell_type": "code",
      "source": [
        "q1_revenues = monthly_revenues[0:3]   # Jan to Mar\n",
        "q2_revenues = monthly_revenues[3:6]   # Apr to Jun\n",
        "\n",
        "print(\"Q1:\", q1_revenues)\n",
        "print(\"Q2:\", q2_revenues)\n"
      ],
      "metadata": {
        "colab": {
          "base_uri": "https://localhost:8080/"
        },
        "id": "537pxU30MM4x",
        "outputId": "1cd0cfc6-89a0-46e1-ac5f-f8dae3188aec"
      },
      "execution_count": null,
      "outputs": [
        {
          "output_type": "stream",
          "name": "stdout",
          "text": [
            "Q1: [120, 150, 140]\n",
            "Q2: [130, 160, 145]\n"
          ]
        }
      ]
    },
    {
      "cell_type": "code",
      "source": [
        "total_revenue = sum(monthly_revenues)\n",
        "max_revenue = max(monthly_revenues)\n",
        "min_revenue = min(monthly_revenues)\n",
        "num_months = len(monthly_revenues)\n",
        "\n",
        "print(\"Total revenue (£000):\", total_revenue)\n",
        "print(\"Highest month (£000):\", max_revenue)\n",
        "print(\"Lowest month (£000):\", min_revenue)\n",
        "print(\"Number of months:\", num_months)"
      ],
      "metadata": {
        "colab": {
          "base_uri": "https://localhost:8080/"
        },
        "id": "uAkCwgNXMu5N",
        "outputId": "4fd23904-dba8-4256-a6e6-622fd0893341"
      },
      "execution_count": null,
      "outputs": [
        {
          "output_type": "stream",
          "name": "stdout",
          "text": [
            "Total revenue (£000): 1769\n",
            "Highest month (£000): 162\n",
            "Lowest month (£000): 120\n",
            "Number of months: 12\n"
          ]
        }
      ]
    },
    {
      "cell_type": "markdown",
      "source": [
        "## Your Project"
      ],
      "metadata": {
        "id": "sVNjIBH3M-yO"
      }
    },
    {
      "cell_type": "code",
      "source": [
        "# Quarterly financial data (positive values = profit, negative values = loss)\n",
        "quarterly_data = [4500, -1200, 3700, 800]\n",
        "\n",
        "# Access the value for the first quarter (Q1)\n",
        "q1 = quarterly_data[0]\n",
        "print(\"Q1:\", q1)\n",
        "\n",
        "# Extract the first half-year (Q1 and Q2) using slicing\n",
        "h1 = quarterly_data[0:2]\n",
        "print(\"First half‑year:\", h1)\n",
        "\n",
        "# Calculate the total profit/loss across all quarters\n",
        "total = sum(quarterly_data)\n",
        "\n",
        "# Identify the highest value in the data\n",
        "highest = max(quarterly_data)\n",
        "\n",
        "# Identify the lowest value in the data\n",
        "lowest = min(quarterly_data)\n",
        "\n",
        "# Count the number of items in the list\n",
        "count = len(quarterly_data)\n",
        "\n",
        "# Display the results\n",
        "print(\"Sum  (£000):\", total)\n",
        "print(\"Max  (£000):\", highest)\n",
        "print(\"Min  (£000):\", lowest)\n",
        "print(\"Items      :\", count)\n"
      ],
      "metadata": {
        "colab": {
          "base_uri": "https://localhost:8080/"
        },
        "id": "D3-rTI5ofnhz",
        "outputId": "3dc681e3-fb48-4611-b9fc-ccb65ee369c0"
      },
      "execution_count": null,
      "outputs": [
        {
          "output_type": "stream",
          "name": "stdout",
          "text": [
            "Q1: 4500\n",
            "First half‑year: [4500, -1200]\n",
            "Sum  (£000): 7800\n",
            "Max  (£000): 4500\n",
            "Min  (£000): -1200\n",
            "Items      : 4\n"
          ]
        }
      ]
    },
    {
      "cell_type": "code",
      "source": [
        "# Quarterly financial data (positive values = profit, negative values = loss)\n",
        "quarterly_data = [4500, -1200, 3700, 800]\n",
        "\n",
        "# Initialise totals for profit and loss\n",
        "total_profit = 0\n",
        "total_loss = 0\n",
        "\n",
        "# Iterate through the data and allocate values to profit or loss\n",
        "for amount in quarterly_data:\n",
        "    if amount > 0:\n",
        "        total_profit += amount  # Add to profit\n",
        "    else:\n",
        "        total_loss += amount    # Add to loss\n",
        "\n",
        "# Display the results\n",
        "print(\"Total Profit:\", total_profit)\n",
        "print(\"Total Loss:\", total_loss)\n"
      ],
      "metadata": {
        "colab": {
          "base_uri": "https://localhost:8080/"
        },
        "id": "txbPtA4jNAbi",
        "outputId": "26732bcf-3dc0-4ed0-dbe5-0052f60aef51"
      },
      "execution_count": null,
      "outputs": [
        {
          "output_type": "stream",
          "name": "stdout",
          "text": [
            "Total Profit: 9000\n",
            "Total Loss: -1200\n"
          ]
        }
      ]
    },
    {
      "cell_type": "markdown",
      "source": [
        "\n",
        "# Extra: Other Python List Functions\n",
        "\n",
        "## 1. `sorted()`: Sorts a List\n",
        "\n",
        "**Definition:**  \n",
        "`sorted()` returns a new list containing all items from the original list in ascending order. The original list remains unchanged.\n",
        "\n",
        "**Example Code:**\n",
        "```python\n",
        "quarterly_data = [4500, -1200, 3700, 800]\n",
        "sorted_data = sorted(quarterly_data)\n",
        "print(\"Sorted data (ascending):\", sorted_data)\n",
        "```\n",
        "\n",
        "**Explanation:**  \n",
        "The function arranges the financial figures from the lowest to the highest. Negative values (losses) appear before positive values (profits).\n",
        "\n",
        "---\n",
        "\n",
        "## 2. `reversed()`: Reverses a List\n",
        "\n",
        "**Definition:**  \n",
        "`reversed()` returns an iterator that accesses the given list in the reverse order. To convert the result into a list, use `list()`.\n",
        "\n",
        "**Example Code:**\n",
        "```python\n",
        "quarterly_data = [4500, -1200, 3700, 800]\n",
        "reversed_data = list(reversed(quarterly_data))\n",
        "print(\"Reversed data:\", reversed_data)\n",
        "```\n",
        "\n",
        "**Explanation:**  \n",
        "The function outputs the list in the opposite order from its original sequence.\n",
        "\n",
        "---\n",
        "\n",
        "## 3. `any()`: Checks if Any Condition is True\n",
        "\n",
        "**Definition:**  \n",
        "`any()` returns `True` if at least one element in the iterable meets the specified condition.\n",
        "\n",
        "**Example Code:**\n",
        "```python\n",
        "quarterly_data = [4500, -1200, 3700, 800]\n",
        "has_loss = any(a < 0 for a in quarterly_data)\n",
        "print(\"Any losses?\", has_loss)\n",
        "```\n",
        "\n",
        "**Explanation:**  \n",
        "The code checks if any of the quarterly figures are negative (indicating a loss). Returns `True` if at least one negative value exists.\n",
        "\n",
        "---\n",
        "\n",
        "## 4. `all()`: Checks if All Conditions are True\n",
        "\n",
        "**Definition:**  \n",
        "`all()` returns `True` only if **all** elements in the iterable meet the specified condition.\n",
        "\n",
        "**Example Code:**\n",
        "```python\n",
        "quarterly_data = [4500, -1200, 3700, 800]\n",
        "all_profit = all(a > 0 for a in quarterly_data)\n",
        "print(\"All profits?\", all_profit)\n",
        "```\n",
        "\n",
        "**Explanation:**  \n",
        "This checks whether all quarterly figures are positive (indicating profits). Returns `False` if any value is negative.\n",
        "\n",
        "---\n",
        "\n",
        "## 5. `.pop(i)`: Removes and Returns an Item at a Specific Index\n",
        "\n",
        "**Definition:**  \n",
        "`.pop(i)` removes and returns the item at index `i`. The list is modified in place.\n",
        "\n",
        "**Example Code:**\n",
        "```python\n",
        "quarterly_data = [4500, -1200, 3700, 800]\n",
        "removed_item = quarterly_data.pop(1)\n",
        "print(\"Removed item at index 1:\", removed_item)\n",
        "print(\"List after pop:\", quarterly_data)\n",
        "```\n",
        "\n",
        "**Explanation:**  \n",
        "The item at index 1 (`-1200`) is removed from the list. The list changes to `[4500, 3700, 800]`.\n",
        "\n",
        "---\n",
        "\n",
        "## 6. `.index(x)`: Finds the Index of a Specific Value\n",
        "\n",
        "**Definition:**  \n",
        "`.index(x)` returns the index of the first occurrence of value `x` in the list.\n",
        "\n",
        "**Example Code:**\n",
        "```python\n",
        "quarterly_data = [4500, 3700, 800]\n",
        "index_3700 = quarterly_data.index(3700)\n",
        "print(\"Index of 3700:\", index_3700)\n",
        "```\n",
        "\n",
        "**Explanation:**  \n",
        "After removing the second item with `.pop(1)`, the value `3700` moves to index 1. The function returns this new index.\n",
        "\n",
        "---\n",
        "\n",
        "## 7. `.copy()`: Creates a Shallow Copy of the List\n",
        "\n",
        "**Definition:**  \n",
        "`.copy()` creates a shallow copy of the list. Changes to the original list do not affect the copy.\n",
        "\n",
        "**Example Code:**\n",
        "```python\n",
        "backup_data = quarterly_data.copy()\n",
        "print(\"Backup copy of list:\", backup_data)\n",
        "```\n",
        "\n",
        "**Explanation:**  \n",
        "The backup copy remains unchanged even if the original list is modified later.\n",
        "\n",
        "---\n",
        "\n",
        "## 8. `.clear()`: Removes All Elements from the List\n",
        "\n",
        "**Definition:**  \n",
        "`.clear()` deletes all items from the list, leaving it empty.\n",
        "\n",
        "**Example Code:**\n",
        "```python\n",
        "quarterly_data.clear()\n",
        "print(\"List after clear():\", quarterly_data)\n",
        "print(\"Backup data still intact:\", backup_data)\n",
        "```\n",
        "\n",
        "**Explanation:**  \n",
        "The original list becomes empty. The backup copy remains unaffected.\n",
        "\n",
        "---"
      ],
      "metadata": {
        "id": "RYiT8QJx0V28"
      }
    }
  ]
}