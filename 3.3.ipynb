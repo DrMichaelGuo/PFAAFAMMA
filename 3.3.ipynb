{
  "nbformat": 4,
  "nbformat_minor": 0,
  "metadata": {
    "colab": {
      "provenance": []
    },
    "kernelspec": {
      "name": "python3",
      "display_name": "Python 3"
    },
    "language_info": {
      "name": "python"
    }
  },
  "cells": [
    {
      "cell_type": "markdown",
      "source": [
        "# 3.3 While Loop"
      ],
      "metadata": {
        "id": "hkVZGpfKJXYz"
      }
    },
    {
      "cell_type": "markdown",
      "source": [
        "## Follow-Along Activity"
      ],
      "metadata": {
        "id": "founYY9rJeFT"
      }
    },
    {
      "cell_type": "code",
      "execution_count": null,
      "metadata": {
        "colab": {
          "base_uri": "https://localhost:8080/"
        },
        "id": "NanhwSvtJWl-",
        "outputId": "aab78249-55b1-4aca-91b7-9d8c0c2f596c"
      },
      "outputs": [
        {
          "output_type": "stream",
          "name": "stdout",
          "text": [
            "1\n",
            "2\n",
            "3\n"
          ]
        }
      ],
      "source": [
        "number = 1\n",
        "\n",
        "while number <= 3:\n",
        "    print(number)\n",
        "    number = number + 1\n"
      ]
    },
    {
      "cell_type": "code",
      "source": [
        "balance = 5000  # initial investment amount\n",
        "target = 10000  # target savings amount\n",
        "interest_rate = 0.05  # annual interest rate\n",
        "years = 0  # counter for years\n",
        "\n",
        "while balance < target:\n",
        "    balance = balance + (balance * interest_rate)  # add yearly interest to balance and update balance\n",
        "    years = years + 1  # update year counter\n",
        "    print(f\"Year {years}: Balance is £{balance:.2f}\")  # display yearly balance with two decimal places\n",
        "\n",
        "print(\"It will take\", years, \"years to reach the target balance of £10,000.\")\n"
      ],
      "metadata": {
        "colab": {
          "base_uri": "https://localhost:8080/"
        },
        "id": "hlZL4UFTJj-M",
        "outputId": "7b2f43d1-39d8-4cca-cbe4-8f93e0a4c59c"
      },
      "execution_count": null,
      "outputs": [
        {
          "output_type": "stream",
          "name": "stdout",
          "text": [
            "Year 1: Balance is £5250.00\n",
            "Year 2: Balance is £5512.50\n",
            "Year 3: Balance is £5788.12\n",
            "Year 4: Balance is £6077.53\n",
            "Year 5: Balance is £6381.41\n",
            "Year 6: Balance is £6700.48\n",
            "Year 7: Balance is £7035.50\n",
            "Year 8: Balance is £7387.28\n",
            "Year 9: Balance is £7756.64\n",
            "Year 10: Balance is £8144.47\n",
            "Year 11: Balance is £8551.70\n",
            "Year 12: Balance is £8979.28\n",
            "Year 13: Balance is £9428.25\n",
            "Year 14: Balance is £9899.66\n",
            "Year 15: Balance is £10394.64\n",
            "It will take 15 years to reach the target balance of £10,000.\n"
          ]
        }
      ]
    },
    {
      "cell_type": "markdown",
      "source": [
        "## Your Project"
      ],
      "metadata": {
        "id": "om4qtuKdJnfL"
      }
    },
    {
      "cell_type": "code",
      "source": [
        "# Set initial balance, interest rate, and monthly payment\n",
        "balance = 3000               # Starting balance\n",
        "monthly_interest_rate = 0.105  # 10.5% monthly interest\n",
        "monthly_payment = 500        # Fixed monthly payment\n",
        "months = 0                   # Counter for the number of months\n",
        "\n",
        "# Calculate balance each month until fully paid off\n",
        "while balance > 0:\n",
        "    balance = balance + (balance * monthly_interest_rate)  # Add monthly interest\n",
        "    balance = balance - monthly_payment                    # Subtract monthly payment\n",
        "    months = months + 1                                    # Increment month counter\n",
        "    print(f\"Month {months}: Balance = {balance:.2f}\")      # Display monthly balance\n",
        "\n",
        "print(f\"Debt paid off in {months} months.\")\n"
      ],
      "metadata": {
        "colab": {
          "base_uri": "https://localhost:8080/"
        },
        "id": "6Iiw7hqTJp6v",
        "outputId": "3324df17-868c-4c4c-b2ff-8f1bfd6cc40c"
      },
      "execution_count": null,
      "outputs": [
        {
          "output_type": "stream",
          "name": "stdout",
          "text": [
            "Month 1: Balance = 2815.00\n",
            "Month 2: Balance = 2610.57\n",
            "Month 3: Balance = 2384.69\n",
            "Month 4: Balance = 2135.08\n",
            "Month 5: Balance = 1859.26\n",
            "Month 6: Balance = 1554.48\n",
            "Month 7: Balance = 1217.70\n",
            "Month 8: Balance = 845.56\n",
            "Month 9: Balance = 434.35\n",
            "Month 10: Balance = -20.05\n",
            "Debt paid off in 10 months.\n"
          ]
        }
      ]
    },
    {
      "cell_type": "markdown",
      "source": [
        "# Extra: Alternative Approach Using break"
      ],
      "metadata": {
        "id": "cQS-eAPhZfk2"
      }
    },
    {
      "cell_type": "code",
      "source": [
        "balance = 3000\n",
        "monthly_interest_rate = 0.105\n",
        "monthly_payment = 500\n",
        "months = 0\n",
        "\n",
        "# Calculate balance each month until fully paid off\n",
        "while True:  # Infinite loop\n",
        "    balance = balance + (balance * monthly_interest_rate)  # Add monthly interest\n",
        "    balance = balance - monthly_payment                    # Subtract monthly payment\n",
        "    months = months + 1                                    # Increment month counter\n",
        "    print(f\"Month {months}: Balance = {balance:.2f}\")      # Display monthly balance\n",
        "\n",
        "    if balance <= 0:  # Check if the balance is fully paid off\n",
        "        break  # Exit the loop when balance is 0 or less\n",
        "\n",
        "print(f\"Debt paid off in {months} months.\")\n"
      ],
      "metadata": {
        "colab": {
          "base_uri": "https://localhost:8080/"
        },
        "id": "D2w6MKQiJyTm",
        "outputId": "f7e7be36-a614-439e-bf1c-2fb50535ded4"
      },
      "execution_count": null,
      "outputs": [
        {
          "output_type": "stream",
          "name": "stdout",
          "text": [
            "Month 1: Balance = 2815.00\n",
            "Month 2: Balance = 2610.57\n",
            "Month 3: Balance = 2384.69\n",
            "Month 4: Balance = 2135.08\n",
            "Month 5: Balance = 1859.26\n",
            "Month 6: Balance = 1554.48\n",
            "Month 7: Balance = 1217.70\n",
            "Month 8: Balance = 845.56\n",
            "Month 9: Balance = 434.35\n",
            "Month 10: Balance = -20.05\n",
            "Debt paid off in 10 months.\n"
          ]
        }
      ]
    },
    {
      "cell_type": "markdown",
      "source": [
        "# Extra: += and -= Operators"
      ],
      "metadata": {
        "id": "S0Ny_4lSZuTB"
      }
    },
    {
      "cell_type": "code",
      "source": [
        "balance = 3000\n",
        "monthly_interest_rate = 0.105\n",
        "monthly_payment = 500\n",
        "months = 0\n",
        "\n",
        "while True:  # Infinite loop\n",
        "    balance += balance * monthly_interest_rate  # += Operators\n",
        "    balance -= monthly_payment                    # -= Operators\n",
        "    months += 1                                    # += Operators\n",
        "    print(f\"Month {months}: Balance = {balance:.2f}\")\n",
        "\n",
        "    if balance <= 0:\n",
        "        break\n",
        "\n",
        "print(f\"Debt paid off in {months} months.\")\n"
      ],
      "metadata": {
        "colab": {
          "base_uri": "https://localhost:8080/"
        },
        "id": "cwOEL_-SJ3j9",
        "outputId": "1ee652d4-1f8e-4926-99d4-1da225c5ff21"
      },
      "execution_count": null,
      "outputs": [
        {
          "output_type": "stream",
          "name": "stdout",
          "text": [
            "Month 1: Balance = 2815.00\n",
            "Month 2: Balance = 2610.57\n",
            "Month 3: Balance = 2384.69\n",
            "Month 4: Balance = 2135.08\n",
            "Month 5: Balance = 1859.26\n",
            "Month 6: Balance = 1554.48\n",
            "Month 7: Balance = 1217.70\n",
            "Month 8: Balance = 845.56\n",
            "Month 9: Balance = 434.35\n",
            "Month 10: Balance = -20.05\n",
            "Debt paid off in 10 months.\n"
          ]
        }
      ]
    }
  ]
}