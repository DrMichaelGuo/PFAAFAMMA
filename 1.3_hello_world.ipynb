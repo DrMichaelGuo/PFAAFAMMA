{
  "nbformat": 4,
  "nbformat_minor": 0,
  "metadata": {
    "colab": {
      "provenance": []
    },
    "kernelspec": {
      "name": "python3",
      "display_name": "Python 3"
    },
    "language_info": {
      "name": "python"
    }
  },
  "cells": [
    {
      "cell_type": "markdown",
      "source": [
        "# Follow-Along Activity"
      ],
      "metadata": {
        "id": "-9Bg6dydkUqH"
      }
    },
    {
      "cell_type": "code",
      "source": [
        "print(\"Hello, World!\")"
      ],
      "metadata": {
        "id": "df35ZmSkLEFb",
        "outputId": "e6ec63c4-0643-4247-a75f-b63e6ed2a227",
        "colab": {
          "base_uri": "https://localhost:8080/"
        }
      },
      "execution_count": null,
      "outputs": [
        {
          "output_type": "stream",
          "name": "stdout",
          "text": [
            "Hello, World!\n"
          ]
        }
      ]
    },
    {
      "cell_type": "markdown",
      "source": [
        "# Your Project"
      ],
      "metadata": {
        "id": "CA8U466vkYuP"
      }
    },
    {
      "cell_type": "code",
      "execution_count": null,
      "metadata": {
        "colab": {
          "base_uri": "https://localhost:8080/"
        },
        "id": "bI4zwpsbKqUx",
        "outputId": "df127dd9-1db0-40a7-f13e-b4e066d27019"
      },
      "outputs": [
        {
          "output_type": "stream",
          "name": "stdout",
          "text": [
            "Welcome\n",
            "Welcome to Python for Accounting and Finance\n"
          ]
        }
      ],
      "source": [
        "print(\"Welcome\")\n",
        "print(\"Welcome to Python for Accounting and Finance\")\n"
      ]
    }
  ]
}