{
  "nbformat": 4,
  "nbformat_minor": 0,
  "metadata": {
    "colab": {
      "provenance": []
    },
    "kernelspec": {
      "name": "python3",
      "display_name": "Python 3"
    },
    "language_info": {
      "name": "python"
    }
  },
  "cells": [
    {
      "cell_type": "markdown",
      "source": [
        "# Follow-Along Activity\n"
      ],
      "metadata": {
        "id": "Yus-y7r366CN"
      }
    },
    {
      "cell_type": "markdown",
      "source": [
        "\n",
        "## Step 0: Check the `robots.txt` File\n",
        "\n",
        "Let’s check the robots.txt file of the demo website:\n",
        "\n",
        "\n",
        "https://drmichaelguo.github.io/web-scraping-demo-PFAAFAMMA/robots.txt"
      ],
      "metadata": {
        "id": "p0TEPGqyZh6H"
      }
    },
    {
      "cell_type": "code",
      "execution_count": 1,
      "metadata": {
        "id": "HBMPmPmnznj9"
      },
      "outputs": [],
      "source": [
        "# Step 1\n",
        "from bs4 import BeautifulSoup\n",
        "import pandas as pd\n",
        "import requests\n",
        "import time\n",
        "\n",
        "url = \"https://drmichaelguo.github.io/web-scraping-demo-PFAAFAMMA/\"\n",
        "headers = {'User-Agent': 'Mozilla/5.0 (compatible; WebScrapingTutorial/1.0)'}  # identify scraper\n",
        "response = requests.get(url, headers=headers)\n",
        "\n",
        "# Handle request errors\n",
        "if response.status_code != 200:\n",
        "    print(f\"Request failed with status code: {response.status_code}\")\n",
        "    exit()\n",
        "\n",
        "# Rate limiting\n",
        "time.sleep(1)  # pause before next request\n",
        "\n",
        "html_content = response.text\n"
      ]
    },
    {
      "cell_type": "code",
      "source": [
        "# Step 2: Parse HTML\n",
        "soup = BeautifulSoup(html_content, \"html.parser\")\n",
        "rows = soup.find_all(\"tr\")\n"
      ],
      "metadata": {
        "id": "hwIElJNw8z8P"
      },
      "execution_count": 2,
      "outputs": []
    },
    {
      "cell_type": "code",
      "source": [
        "# Step 3: Create function to parse numbers\n",
        "def parse_number(text):\n",
        "    text = text.strip().replace(\",\", \"\")\n",
        "    if \"(\" in text and \")\" in text:\n",
        "        return -int(text.replace(\"(\", \"\").replace(\")\", \"\"))\n",
        "    try:\n",
        "        return float(text) if \".\" in text else int(text)\n",
        "    except ValueError:\n",
        "        return None\n"
      ],
      "metadata": {
        "id": "KWESk8Gt8t9O"
      },
      "execution_count": 3,
      "outputs": []
    },
    {
      "cell_type": "code",
      "source": [
        "# Step 4: Extract data\n",
        "data = []\n",
        "for row in rows[1:]:\n",
        "    cells = row.find_all(\"td\")\n",
        "    if len(cells) == 7:\n",
        "        data.append({\n",
        "            \"Year\": int(cells[0].text.strip()),\n",
        "            \"Revenue (£m)\": parse_number(cells[1].text),\n",
        "            \"Cost of Sales (£m)\": parse_number(cells[2].text),\n",
        "            \"Gross Profit (£m)\": parse_number(cells[3].text),\n",
        "            \"Operating Profit (£m)\": parse_number(cells[4].text),\n",
        "            \"Net Profit (£m)\": parse_number(cells[5].text),\n",
        "            \"EPS (p)\": parse_number(cells[6].text),\n",
        "        })\n"
      ],
      "metadata": {
        "id": "Jy_pa-u_8sJN"
      },
      "execution_count": 4,
      "outputs": []
    },
    {
      "cell_type": "code",
      "source": [
        "# Step 5: Convert to DataFrame\n",
        "df = pd.DataFrame(data)\n",
        "print(df)"
      ],
      "metadata": {
        "colab": {
          "base_uri": "https://localhost:8080/"
        },
        "id": "2x0CPZyp8qiB",
        "outputId": "13d1e14b-6a5b-4d48-bc1e-785ed64a1e4e"
      },
      "execution_count": 5,
      "outputs": [
        {
          "output_type": "stream",
          "name": "stdout",
          "text": [
            "   Year  Revenue (£m)  Cost of Sales (£m)  Gross Profit (£m)  \\\n",
            "0  2021          1245                -757                488   \n",
            "1  2022          1398                -832                566   \n",
            "2  2023          1561                -903                658   \n",
            "\n",
            "   Operating Profit (£m)  Net Profit (£m)  EPS (p)  \n",
            "0                    312              215     35.2  \n",
            "1                    358              249     40.7  \n",
            "2                    421              297     48.3  \n"
          ]
        }
      ]
    },
    {
      "cell_type": "code",
      "source": [
        "print(f\"Scraped {len(data)} records from {url} on {pd.Timestamp.now()}\")\n"
      ],
      "metadata": {
        "colab": {
          "base_uri": "https://localhost:8080/"
        },
        "id": "HyEqqgX38nTq",
        "outputId": "66e95f33-5852-406a-8b61-9f56971de059"
      },
      "execution_count": 6,
      "outputs": [
        {
          "output_type": "stream",
          "name": "stdout",
          "text": [
            "Scraped 3 records from https://drmichaelguo.github.io/web-scraping-demo-PFAAFAMMA/ on 2025-08-03 09:50:25.180621\n"
          ]
        }
      ]
    }
  ]
}