{
  "nbformat": 4,
  "nbformat_minor": 0,
  "metadata": {
    "colab": {
      "provenance": []
    },
    "kernelspec": {
      "name": "python3",
      "display_name": "Python 3"
    },
    "language_info": {
      "name": "python"
    }
  },
  "cells": [
    {
      "cell_type": "markdown",
      "source": [
        "# 2.3 Comments"
      ],
      "metadata": {
        "id": "Wx85Gb47QdGm"
      }
    },
    {
      "cell_type": "markdown",
      "source": [
        "## Key Concepts"
      ],
      "metadata": {
        "id": "E9ZJY-yVuKaW"
      }
    },
    {
      "cell_type": "code",
      "source": [
        "# Monthly sales revenue in GBP\n",
        "sales_revenue = 25000\n"
      ],
      "metadata": {
        "id": "n9JWZqHZuLMN"
      },
      "execution_count": null,
      "outputs": []
    },
    {
      "cell_type": "code",
      "source": [
        "sales_revenue = 25000  # Monthly sales revenue in GBP"
      ],
      "metadata": {
        "id": "OhhdhrvkuREx"
      },
      "execution_count": null,
      "outputs": []
    },
    {
      "cell_type": "code",
      "source": [
        "'''\n",
        "This script calculates VAT:\n",
        "- Standard rate is 20%\n",
        "- VAT is applied to taxable revenue\n",
        "'''"
      ],
      "metadata": {
        "id": "YYYSDt5MuUdT"
      },
      "execution_count": null,
      "outputs": []
    },
    {
      "cell_type": "code",
      "source": [
        "\"\"\"\n",
        "This script prepares a payroll summary:\n",
        "- Monthly salary is £3,000\n",
        "- Deductions include tax and pension contributions\n",
        "\"\"\""
      ],
      "metadata": {
        "colab": {
          "base_uri": "https://localhost:8080/",
          "height": 35
        },
        "id": "MtQh2IJEuWhV",
        "outputId": "42ddd562-f22a-42ef-acbc-74867a165480"
      },
      "execution_count": null,
      "outputs": [
        {
          "output_type": "execute_result",
          "data": {
            "text/plain": [
              "'\\nThis script estimates gross margin:\\n- Revenue is £40,000\\n- Cost of goods sold is £22,000\\n'"
            ],
            "application/vnd.google.colaboratory.intrinsic+json": {
              "type": "string"
            }
          },
          "metadata": {},
          "execution_count": 4
        }
      ]
    },
    {
      "cell_type": "markdown",
      "source": [
        "## Follow-Along Activity"
      ],
      "metadata": {
        "id": "xUflCo91QeZL"
      }
    },
    {
      "cell_type": "code",
      "execution_count": null,
      "metadata": {
        "colab": {
          "base_uri": "https://localhost:8080/"
        },
        "id": "kACT_yb8NqZu",
        "outputId": "c6265130-afcf-40f1-a841-4ca903414fe6"
      },
      "outputs": [
        {
          "output_type": "stream",
          "name": "stdout",
          "text": [
            "120\n"
          ]
        }
      ],
      "source": [
        "# Total number of invoices issued\n",
        "invoice_count = 120\n",
        "print(invoice_count)"
      ]
    },
    {
      "cell_type": "code",
      "source": [
        "active_clients = 35       # Number of active clients\n",
        "print(active_clients)"
      ],
      "metadata": {
        "colab": {
          "base_uri": "https://localhost:8080/"
        },
        "id": "hA5ZhO0JQyEH",
        "outputId": "6438a26c-e615-44f7-df87-5542c06fc5c1"
      },
      "execution_count": null,
      "outputs": [
        {
          "output_type": "stream",
          "name": "stdout",
          "text": [
            "35\n"
          ]
        }
      ]
    },
    {
      "cell_type": "code",
      "source": [
        "'''\n",
        "This section defines the basic details for the financial report:\n",
        "- Title of the report\n",
        "- Department preparing the report\n",
        "- Reporting period is assumed to be annual\n",
        "'''\n",
        "report_title = \"Annual Financial Summary\"\n",
        "department = \"Finance\"\n",
        "reporting_period = \"Annual\"\n",
        "print(report_title)\n",
        "print(department)\n",
        "print(reporting_period)"
      ],
      "metadata": {
        "colab": {
          "base_uri": "https://localhost:8080/"
        },
        "id": "a9hhMV86Rg6u",
        "outputId": "bddfa55e-efe2-49ce-b07b-bb5252d6b9ca"
      },
      "execution_count": null,
      "outputs": [
        {
          "output_type": "stream",
          "name": "stdout",
          "text": [
            "Annual Financial Summary\n",
            "Finance\n",
            "Annual\n"
          ]
        }
      ]
    },
    {
      "cell_type": "markdown",
      "source": [
        "## Your Project"
      ],
      "metadata": {
        "id": "hsVIgJtpVnQS"
      }
    },
    {
      "cell_type": "code",
      "source": [
        "'''\n",
        "This code creates a monthly sales report.\n",
        "It defines report details and displays each detail.\n",
        "'''\n",
        "\n",
        "# Monthly sales in GBP\n",
        "monthly_sales = 75000\n",
        "\n",
        "# Number of invoices issued this month\n",
        "invoice_count = 150\n",
        "\n",
        "# Number of employees in the sales department\n",
        "employee_count = 20\n",
        "\n",
        "# Status of the sales report\n",
        "report_status = \"Complete\"\n",
        "\n",
        "# Verification status of the data\n",
        "data_verified = True\n",
        "\n",
        "print(\"Monthly Sales:\", monthly_sales)\t\t# Display monthly sales\n",
        "print(\"Invoice Count:\", invoice_count)\t\t# Display invoice count\n",
        "print(\"Employee Count:\", employee_count)\t# Display employee count\n",
        "print(\"Report Status:\", report_status)\t\t# Display report status\n",
        "print(\"Data Verified:\", data_verified)\t\t# Display verification status\n"
      ],
      "metadata": {
        "colab": {
          "base_uri": "https://localhost:8080/"
        },
        "id": "LpjuLW2_Vmo7",
        "outputId": "fc2d2ed4-00c3-4a82-9965-44038bad3780"
      },
      "execution_count": null,
      "outputs": [
        {
          "output_type": "stream",
          "name": "stdout",
          "text": [
            "Monthly Sales: 75000\n",
            "Invoice Count: 150\n",
            "Employee Count: 20\n",
            "Report Status: Complete\n",
            "Data Verified: True\n"
          ]
        }
      ]
    }
  ]
}