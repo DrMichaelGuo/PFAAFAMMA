{
  "nbformat": 4,
  "nbformat_minor": 0,
  "metadata": {
    "colab": {
      "provenance": []
    },
    "kernelspec": {
      "name": "python3",
      "display_name": "Python 3"
    },
    "language_info": {
      "name": "python"
    }
  },
  "cells": [
    {
      "cell_type": "markdown",
      "source": [
        "# 4.3 Functions"
      ],
      "metadata": {
        "id": "7SBn2gM5iJ4p"
      }
    },
    {
      "cell_type": "markdown",
      "source": [
        "## Key concepts"
      ],
      "metadata": {
        "id": "PwGg9z0oiJw1"
      }
    },
    {
      "cell_type": "code",
      "source": [
        "def add(a, b):\n",
        "    return a + b\n"
      ],
      "metadata": {
        "id": "FdXpaRpBjI0X"
      },
      "execution_count": null,
      "outputs": []
    },
    {
      "cell_type": "code",
      "source": [
        "total = add(7, 3)     # call add function\n",
        "print(total)"
      ],
      "metadata": {
        "id": "cZoy-MDYjfFO"
      },
      "execution_count": null,
      "outputs": []
    },
    {
      "cell_type": "markdown",
      "source": [
        "## Follow-Along Activity"
      ],
      "metadata": {
        "id": "TxxyXEvLjex9"
      }
    },
    {
      "cell_type": "code",
      "source": [
        "# Define a function to calculate Return on Investment (ROI)\n",
        "def calculate_roi(net_profit, cost_of_investment):\n",
        "    roi = (net_profit / cost_of_investment) * 100\n",
        "    return roi\n"
      ],
      "metadata": {
        "id": "l5tqMk8OjtYJ"
      },
      "execution_count": null,
      "outputs": []
    },
    {
      "cell_type": "code",
      "source": [
        "result = calculate_roi(20000, 50000)\n",
        "print(\"ROI is:\", result, \"%\")\n"
      ],
      "metadata": {
        "colab": {
          "base_uri": "https://localhost:8080/"
        },
        "id": "COjR7vDNjzf4",
        "outputId": "bc06c533-a1fb-4739-f074-e02bdde9db61"
      },
      "execution_count": null,
      "outputs": [
        {
          "output_type": "stream",
          "name": "stdout",
          "text": [
            "ROI is: 40.0 %\n"
          ]
        }
      ]
    },
    {
      "cell_type": "code",
      "source": [
        "result = calculate_roi(30000, 40000)\n",
        "print(\"ROI is:\", result, \"%\")\n"
      ],
      "metadata": {
        "colab": {
          "base_uri": "https://localhost:8080/"
        },
        "id": "jcHhYvQSj7By",
        "outputId": "9f5da957-3a1e-4abd-fc18-82dbb3e79a89"
      },
      "execution_count": null,
      "outputs": [
        {
          "output_type": "stream",
          "name": "stdout",
          "text": [
            "ROI is: 75.0 %\n"
          ]
        }
      ]
    },
    {
      "cell_type": "markdown",
      "source": [
        "## Your Project"
      ],
      "metadata": {
        "id": "STCuMq_hUV2M"
      }
    },
    {
      "cell_type": "code",
      "execution_count": null,
      "metadata": {
        "colab": {
          "base_uri": "https://localhost:8080/"
        },
        "id": "VoUXG_meUFSt",
        "outputId": "efecbd58-52bf-49e3-f8aa-8a86e23d479d"
      },
      "outputs": [
        {
          "output_type": "stream",
          "name": "stdout",
          "text": [
            "Net Profit Margin is: 30.0 %\n"
          ]
        }
      ],
      "source": [
        "def net_profit_margin(revenue, expenses):\n",
        "    \"\"\"Calculate Net Profit Margin as a percentage of revenue.\"\"\"\n",
        "    net_profit = revenue - expenses\n",
        "    margin = (net_profit / revenue) * 100\n",
        "    return margin\n",
        "\n",
        "result = net_profit_margin(50000, 35000)\n",
        "print(\"Net Profit Margin is:\", result, \"%\")   # → 30.0 %\n"
      ]
    },
    {
      "cell_type": "code",
      "source": [
        "revenue = float(input(\"Enter revenue: \"))\n",
        "expenses = float(input(\"Enter expenses: \"))\n",
        "result = net_profit_margin(revenue, expenses)\n",
        "print(f\"Net Profit Margin is: {result:.2f}%\")\n"
      ],
      "metadata": {
        "colab": {
          "base_uri": "https://localhost:8080/"
        },
        "id": "93Lywl53ULv7",
        "outputId": "3b2e07c5-4d28-4d46-ecbc-162b8159a7aa"
      },
      "execution_count": null,
      "outputs": [
        {
          "output_type": "stream",
          "name": "stdout",
          "text": [
            "Enter revenue: 50000\n",
            "Enter expenses: 35000\n",
            "Net Profit Margin is: 30.00%\n"
          ]
        }
      ]
    },
    {
      "cell_type": "code",
      "source": [
        "'''\n",
        "Quarterly data for revenue and expenses:\n",
        "The list quarterly_data contains four dictionaries, one for each quarter (Q1, Q2, Q3, Q4).\n",
        "Each dictionary includes:\n",
        "- \"quarter\": the name of the quarter.\n",
        "- \"revenue\": the revenue for that quarter.\n",
        "- \"expenses\": the expenses for that quarter.\n",
        "'''\n",
        "quarterly_data = [\n",
        "    {\"quarter\": \"Q1\", \"revenue\": 50_000, \"expenses\": 30_000},\n",
        "    {\"quarter\": \"Q2\", \"revenue\": 60_000, \"expenses\": 35_000},\n",
        "    {\"quarter\": \"Q3\", \"revenue\": 70_000, \"expenses\": 40_000},\n",
        "    {\"quarter\": \"Q4\", \"revenue\": 55_000, \"expenses\": 33_000}\n",
        "]\n"
      ],
      "metadata": {
        "id": "D-vp0chXUZW_"
      },
      "execution_count": null,
      "outputs": []
    },
    {
      "cell_type": "code",
      "source": [
        "# Quarterly data for revenue and expenses\n",
        "quarterly_data = [\n",
        "    {\"quarter\": \"Q1\", \"revenue\": 50_000, \"expenses\": 30_000},\n",
        "    {\"quarter\": \"Q2\", \"revenue\": 60_000, \"expenses\": 35_000},\n",
        "    {\"quarter\": \"Q3\", \"revenue\": 70_000, \"expenses\": 40_000},\n",
        "    {\"quarter\": \"Q4\", \"revenue\": 55_000, \"expenses\": 33_000}\n",
        "]\n",
        "\n",
        "# Calculate Net Profit Margin for each quarter and print the results\n",
        "for data in quarterly_data:\n",
        "    revenue = data[\"revenue\"]\n",
        "    expenses = data[\"expenses\"]\n",
        "    quarter = data[\"quarter\"]\n",
        "    result = net_profit_margin(revenue, expenses)\n",
        "    print(f\"{quarter}: Revenue = £{revenue}, Expenses = £{expenses}, Net Profit Margin = {result:.2f}%\")\n"
      ],
      "metadata": {
        "colab": {
          "base_uri": "https://localhost:8080/"
        },
        "id": "8SCQ36ESUo3_",
        "outputId": "2f49c232-aa86-42eb-fb44-270b16b237c9"
      },
      "execution_count": null,
      "outputs": [
        {
          "output_type": "stream",
          "name": "stdout",
          "text": [
            "Q1: Revenue = £50000, Expenses = £30000, Net Profit Margin = 40.00%\n",
            "Q2: Revenue = £60000, Expenses = £35000, Net Profit Margin = 41.67%\n",
            "Q3: Revenue = £70000, Expenses = £40000, Net Profit Margin = 42.86%\n",
            "Q4: Revenue = £55000, Expenses = £33000, Net Profit Margin = 40.00%\n"
          ]
        }
      ]
    }
  ]
}