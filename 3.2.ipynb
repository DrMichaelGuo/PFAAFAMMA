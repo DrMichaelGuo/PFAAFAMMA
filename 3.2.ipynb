{
  "nbformat": 4,
  "nbformat_minor": 0,
  "metadata": {
    "colab": {
      "provenance": []
    },
    "kernelspec": {
      "name": "python3",
      "display_name": "Python 3"
    },
    "language_info": {
      "name": "python"
    }
  },
  "cells": [
    {
      "cell_type": "markdown",
      "source": [
        "# Key Concepts"
      ],
      "metadata": {
        "id": "Pe8XP4XHRJaj"
      }
    },
    {
      "cell_type": "code",
      "source": [
        "for number in range(1, 6):\n",
        "   print(number)"
      ],
      "metadata": {
        "id": "DwPtRJPiRLso"
      },
      "execution_count": null,
      "outputs": []
    },
    {
      "cell_type": "markdown",
      "source": [
        "## Follow-Along Activity"
      ],
      "metadata": {
        "id": "WOUlx7NVI3zJ"
      }
    },
    {
      "cell_type": "code",
      "source": [
        "for a in range(1, 4):\n",
        "    print(a)\n"
      ],
      "metadata": {
        "colab": {
          "base_uri": "https://localhost:8080/"
        },
        "id": "mIewhdEuI6BV",
        "outputId": "d5f16d7e-e28c-4722-fccd-0975cbe2f36d"
      },
      "execution_count": null,
      "outputs": [
        {
          "output_type": "stream",
          "name": "stdout",
          "text": [
            "1\n",
            "2\n",
            "3\n"
          ]
        }
      ]
    },
    {
      "cell_type": "code",
      "source": [
        "principal = 10000  # Initial investment\n",
        "rate = 0.05        # Annual interest rate (5%)\n",
        "years = 3          # Investment period\n",
        "\n",
        "for year in range(1, years + 1):\n",
        "    principal = principal * (1 + rate)  # Compound interest calculation\n",
        "    print(f\"Year {year}: £{principal:.2f}\")\n"
      ],
      "metadata": {
        "colab": {
          "base_uri": "https://localhost:8080/"
        },
        "id": "dolZMn6YJCox",
        "outputId": "c42e5532-3b7d-4f4b-c51d-ec0f44393f86"
      },
      "execution_count": null,
      "outputs": [
        {
          "output_type": "stream",
          "name": "stdout",
          "text": [
            "Year 1: £10500.00\n",
            "Year 2: £11025.00\n",
            "Year 3: £11576.25\n"
          ]
        }
      ]
    },
    {
      "cell_type": "markdown",
      "source": [
        "## Your Project"
      ],
      "metadata": {
        "id": "ncMxc4E7JHdN"
      }
    },
    {
      "cell_type": "code",
      "source": [
        "# Define input values\n",
        "initial_cost = 15000\n",
        "residual_value = 3000\n",
        "useful_life_years = 6\n",
        "\n",
        "# Calculate annual depreciation\n",
        "annual_depreciation = (initial_cost - residual_value) / useful_life_years\n",
        "\n",
        "# Loop through each year and calculate the depreciated value\n",
        "for year in range(1, useful_life_years + 1):\n",
        "    asset_value = initial_cost - (annual_depreciation * year)\n",
        "    print(f\"Year {year}: £{asset_value:.2f}\")\n"
      ],
      "metadata": {
        "colab": {
          "base_uri": "https://localhost:8080/"
        },
        "id": "JTXqnNYHJJzx",
        "outputId": "6d29d031-0749-45e7-ecec-4d85f34236cc"
      },
      "execution_count": null,
      "outputs": [
        {
          "output_type": "stream",
          "name": "stdout",
          "text": [
            "Year 1: £13000.00\n",
            "Year 2: £11000.00\n",
            "Year 3: £9000.00\n",
            "Year 4: £7000.00\n",
            "Year 5: £5000.00\n",
            "Year 6: £3000.00\n"
          ]
        }
      ]
    }
  ]
}