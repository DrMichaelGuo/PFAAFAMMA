{
  "nbformat": 4,
  "nbformat_minor": 0,
  "metadata": {
    "colab": {
      "provenance": []
    },
    "kernelspec": {
      "name": "python3",
      "display_name": "Python 3"
    },
    "language_info": {
      "name": "python"
    }
  },
  "cells": [
    {
      "cell_type": "markdown",
      "source": [
        "# 5.1 DataFrames"
      ],
      "metadata": {
        "id": "zwWeL490AuAS"
      }
    },
    {
      "cell_type": "markdown",
      "source": [
        "## Key concepts"
      ],
      "metadata": {
        "id": "1tiKCl_lAx3z"
      }
    },
    {
      "cell_type": "code",
      "execution_count": null,
      "metadata": {
        "colab": {
          "base_uri": "https://localhost:8080/"
        },
        "id": "Yb3ifB4FAsTG",
        "outputId": "75bdda54-66c9-46fb-8827-81e6718ce075"
      },
      "outputs": [
        {
          "output_type": "stream",
          "name": "stdout",
          "text": [
            "      Product  Quantity  Price\n",
            "0       Apple        50   0.60\n",
            "1      Banana        30   0.40\n",
            "2      Orange        20   0.50\n",
            "3       Mango        15   1.20\n",
            "4       Grape        40   0.80\n",
            "5        Pear        25   0.55\n",
            "6   Pineapple        10   1.50\n",
            "7       Peach        18   0.90\n",
            "8        Kiwi        12   0.75\n",
            "9  Watermelon         5   3.00\n"
          ]
        }
      ],
      "source": [
        "import pandas as pd\n",
        "\n",
        "# Define the data\n",
        "data = {\n",
        "    'Product': ['Apple', 'Banana', 'Orange', 'Mango', 'Grape',\n",
        "                'Pear', 'Pineapple', 'Peach', 'Kiwi', 'Watermelon'],\n",
        "    'Quantity': [50, 30, 20, 15, 40, 25, 10, 18, 12, 5],\n",
        "    'Price': [0.60, 0.40, 0.50, 1.20, 0.80, 0.55, 1.50, 0.90, 0.75, 3.00]\n",
        "}\n",
        "\n",
        "# Create the DataFrame\n",
        "df = pd.DataFrame(data)\n",
        "\n",
        "# Display the DataFrame\n",
        "print(df)\n"
      ]
    },
    {
      "cell_type": "markdown",
      "source": [
        "## Follow-Along Activity"
      ],
      "metadata": {
        "id": "BSNNZJN9Ls7T"
      }
    },
    {
      "cell_type": "code",
      "source": [
        "import pandas as pd"
      ],
      "metadata": {
        "id": "DOzUCmXhOG23"
      },
      "execution_count": null,
      "outputs": []
    },
    {
      "cell_type": "code",
      "source": [
        "# Sample data\n",
        "data = {\n",
        "    'Date': ['2025-01-10', '2025-01-11', '2025-01-12', '2025-01-13'],\n",
        "    'Invoice_No': [101, 102, 103, 104],\n",
        "    'Client': ['ABC Ltd', 'XYZ Ltd', 'LMN Ltd', 'ABC Ltd'],\n",
        "    'Amount': [500, 1200, 700, 300],\n",
        "    'Paid': [True, False, True, False]\n",
        "}\n",
        "\n",
        "# Create the DataFrame\n",
        "df = pd.DataFrame(data)\n",
        "\n",
        "# Display the DataFrame\n",
        "print(df)\n"
      ],
      "metadata": {
        "colab": {
          "base_uri": "https://localhost:8080/"
        },
        "id": "6xaenbcvLyAI",
        "outputId": "65aa3545-87fe-4c88-8a5d-b4807e555fad"
      },
      "execution_count": null,
      "outputs": [
        {
          "output_type": "stream",
          "name": "stdout",
          "text": [
            "         Date  Invoice_No   Client  Amount   Paid\n",
            "0  2025-01-10         101  ABC Ltd     500   True\n",
            "1  2025-01-11         102  XYZ Ltd    1200  False\n",
            "2  2025-01-12         103  LMN Ltd     700   True\n",
            "3  2025-01-13         104  ABC Ltd     300  False\n"
          ]
        }
      ]
    },
    {
      "cell_type": "code",
      "source": [
        "# Access the first transaction (row index 0)\n",
        "print(df.iloc[0])"
      ],
      "metadata": {
        "colab": {
          "base_uri": "https://localhost:8080/"
        },
        "id": "QnmHoiUo8bjO",
        "outputId": "b11a60bc-1f5d-4890-b739-c84832982452"
      },
      "execution_count": null,
      "outputs": [
        {
          "output_type": "stream",
          "name": "stdout",
          "text": [
            "Date          2025-01-10\n",
            "Invoice_No           101\n",
            "Client           ABC Ltd\n",
            "Amount               500\n",
            "Paid                True\n",
            "Name: 0, dtype: object\n"
          ]
        }
      ]
    },
    {
      "cell_type": "code",
      "source": [
        "# Access the second transaction (row index 1)\n",
        "print(df.iloc[1])\n"
      ],
      "metadata": {
        "colab": {
          "base_uri": "https://localhost:8080/"
        },
        "id": "N5b-Wv_gMbDn",
        "outputId": "19ad6aef-6c7c-4068-832f-f9b5bb735c25"
      },
      "execution_count": null,
      "outputs": [
        {
          "output_type": "stream",
          "name": "stdout",
          "text": [
            "Date          2025-01-11\n",
            "Invoice_No           102\n",
            "Client           XYZ Ltd\n",
            "Amount              1200\n",
            "Paid               False\n",
            "Name: 1, dtype: object\n"
          ]
        }
      ]
    },
    {
      "cell_type": "code",
      "source": [
        "# Access the 'Amount' column\n",
        "print(df['Amount'])\n"
      ],
      "metadata": {
        "colab": {
          "base_uri": "https://localhost:8080/"
        },
        "id": "9rKbIYiqMWbs",
        "outputId": "2202b2a7-abc7-4ee8-f29b-8195f33d99b7"
      },
      "execution_count": null,
      "outputs": [
        {
          "output_type": "stream",
          "name": "stdout",
          "text": [
            "0     500\n",
            "1    1200\n",
            "2     700\n",
            "3     300\n",
            "Name: Amount, dtype: int64\n"
          ]
        }
      ]
    },
    {
      "cell_type": "code",
      "source": [
        "# Access 'Client' and 'Amount' columns\n",
        "print(df[['Client', 'Amount']])\n"
      ],
      "metadata": {
        "colab": {
          "base_uri": "https://localhost:8080/"
        },
        "id": "ConJ2nBrMYc5",
        "outputId": "adb05811-b4da-46b1-c55c-86d7cb7e6b9c"
      },
      "execution_count": null,
      "outputs": [
        {
          "output_type": "stream",
          "name": "stdout",
          "text": [
            "    Client  Amount\n",
            "0  ABC Ltd     500\n",
            "1  XYZ Ltd    1200\n",
            "2  LMN Ltd     700\n",
            "3  ABC Ltd     300\n"
          ]
        }
      ]
    },
    {
      "cell_type": "code",
      "source": [
        "# Add VAT column (20% of Amount)\n",
        "df['VAT'] = df['Amount'] * 0.2\n",
        "\n",
        "# View the updated DataFrame\n",
        "print(df)\n"
      ],
      "metadata": {
        "colab": {
          "base_uri": "https://localhost:8080/"
        },
        "id": "MG9K-nYtMgJG",
        "outputId": "7841acef-c85b-4115-e6ed-ce92f71a08f6"
      },
      "execution_count": null,
      "outputs": [
        {
          "output_type": "stream",
          "name": "stdout",
          "text": [
            "         Date  Invoice_No   Client  Amount   Paid    VAT\n",
            "0  2025-01-10         101  ABC Ltd     500   True  100.0\n",
            "1  2025-01-11         102  XYZ Ltd    1200  False  240.0\n",
            "2  2025-01-12         103  LMN Ltd     700   True  140.0\n",
            "3  2025-01-13         104  ABC Ltd     300  False   60.0\n"
          ]
        }
      ]
    },
    {
      "cell_type": "code",
      "source": [
        "# Filtering data (paid invoices)\n",
        "paid_invoices = df[df['Paid'] == True]\n",
        "print(paid_invoices)"
      ],
      "metadata": {
        "colab": {
          "base_uri": "https://localhost:8080/"
        },
        "id": "X7YonZGpFJaK",
        "outputId": "60033d30-0691-47bf-81a1-db4a3bcd09da"
      },
      "execution_count": null,
      "outputs": [
        {
          "output_type": "stream",
          "name": "stdout",
          "text": [
            "         Date  Invoice_No   Client  Amount  Paid    VAT\n",
            "0  2025-01-10         101  ABC Ltd     500  True  100.0\n",
            "2  2025-01-12         103  LMN Ltd     700  True  140.0\n"
          ]
        }
      ]
    },
    {
      "cell_type": "code",
      "source": [
        "# Filtering data (unpaid invoices)\n",
        "unpaid_invoices = df[df['Paid'] == False]\n",
        "print(\"Unpaid invoices:\")\n",
        "print(unpaid_invoices)"
      ],
      "metadata": {
        "colab": {
          "base_uri": "https://localhost:8080/"
        },
        "id": "RPhYMjm6MjPt",
        "outputId": "c1e5638e-86b8-47ab-984d-7dd409ac0b36"
      },
      "execution_count": null,
      "outputs": [
        {
          "output_type": "stream",
          "name": "stdout",
          "text": [
            "Unpaid invoices:\n",
            "         Date  Invoice_No   Client  Amount   Paid    VAT\n",
            "1  2025-01-11         102  XYZ Ltd    1200  False  240.0\n",
            "3  2025-01-13         104  ABC Ltd     300  False   60.0\n"
          ]
        }
      ]
    },
    {
      "cell_type": "markdown",
      "source": [
        "## Your Project"
      ],
      "metadata": {
        "id": "XVWdlasIHQaa"
      }
    },
    {
      "cell_type": "markdown",
      "source": [
        "**Data**"
      ],
      "metadata": {
        "id": "XWdZXMxwHT7n"
      }
    },
    {
      "cell_type": "code",
      "source": [
        "# This is the data\n",
        "data = {\n",
        "    'Date': ['2025-01-01', '2025-01-03', '2025-01-05', '2025-01-07'],\n",
        "    'Expense_ID': [1, 2, 3, 4],\n",
        "    'Category': ['Office Supplies', 'Utilities', 'Travel', 'Office Supplies'],\n",
        "    'Amount': [150.75, 300.50, 450.00, 120.25],\n",
        "    'Approved': [True, False, True, False]\n",
        "}"
      ],
      "metadata": {
        "id": "H9jmr0NZHR2g"
      },
      "execution_count": null,
      "outputs": []
    },
    {
      "cell_type": "markdown",
      "source": [
        "**Example code:**"
      ],
      "metadata": {
        "id": "LDjGG59AHYLi"
      }
    },
    {
      "cell_type": "code",
      "source": [
        "import pandas as pd\n",
        "\n",
        "# The data represents expenses for a small business.\n",
        "data = {\n",
        "    'Date': ['2025-01-01', '2025-01-03', '2025-01-05', '2025-01-07'],\n",
        "    'Expense_ID': [1, 2, 3, 4],\n",
        "    'Category': ['Office Supplies', 'Utilities', 'Travel', 'Office Supplies'],\n",
        "    'Amount': [150.75, 300.50, 450.00, 120.25],\n",
        "    'Approved': [True, False, True, False]\n",
        "}\n",
        "\n",
        "# Step 1: Load the Expense Dataset\n",
        "df = pd.DataFrame(data)\n",
        "print(\"Expense Dataset:\")\n",
        "print(df)\n",
        "\n",
        "# Step 2: Access a Specific Row\n",
        "print(\"Accessing row at index 0:\")\n",
        "print(df.iloc[0])\n",
        "\n",
        "# Step 3: Access a Specific Column\n",
        "print(\"Accessing 'Category' column:\")\n",
        "print(df['Category'])\n",
        "\n",
        "# Step 4: Add a New Column (Tax @ 10%)\n",
        "df['Tax'] = df['Amount'] * 0.1\n",
        "print(\"Data after adding Tax column:\")\n",
        "print(df)\n",
        "\n",
        "# Step 5: Filter Data (Unapproved Expenses)\n",
        "unapproved_expenses = df[df['Approved'] == False]\n",
        "print(\"Unapproved expenses:\")\n",
        "print(unapproved_expenses)"
      ],
      "metadata": {
        "colab": {
          "base_uri": "https://localhost:8080/"
        },
        "id": "iy-gX_owHX_y",
        "outputId": "6baa61c1-c424-4c71-c32b-31dc16be5857"
      },
      "execution_count": null,
      "outputs": [
        {
          "output_type": "stream",
          "name": "stdout",
          "text": [
            "Expense Dataset:\n",
            "         Date  Expense_ID         Category  Amount  Approved\n",
            "0  2025-01-01           1  Office Supplies  150.75      True\n",
            "1  2025-01-03           2        Utilities  300.50     False\n",
            "2  2025-01-05           3           Travel  450.00      True\n",
            "3  2025-01-07           4  Office Supplies  120.25     False\n",
            "Accessing row at index 0:\n",
            "Date               2025-01-01\n",
            "Expense_ID                  1\n",
            "Category      Office Supplies\n",
            "Amount                 150.75\n",
            "Approved                 True\n",
            "Name: 0, dtype: object\n",
            "Accessing 'Category' column:\n",
            "0    Office Supplies\n",
            "1          Utilities\n",
            "2             Travel\n",
            "3    Office Supplies\n",
            "Name: Category, dtype: object\n",
            "Data after adding Tax column:\n",
            "         Date  Expense_ID         Category  Amount  Approved     Tax\n",
            "0  2025-01-01           1  Office Supplies  150.75      True  15.075\n",
            "1  2025-01-03           2        Utilities  300.50     False  30.050\n",
            "2  2025-01-05           3           Travel  450.00      True  45.000\n",
            "3  2025-01-07           4  Office Supplies  120.25     False  12.025\n",
            "Descriptive statistics for 'Amount':\n",
            "count      4.00\n",
            "mean     255.38\n",
            "std      151.79\n",
            "min      120.25\n",
            "25%      143.12\n",
            "50%      225.62\n",
            "75%      337.88\n",
            "max      450.00\n",
            "Name: Amount, dtype: float64\n",
            "Unapproved expenses:\n",
            "         Date  Expense_ID         Category  Amount  Approved     Tax\n",
            "1  2025-01-03           2        Utilities  300.50     False  30.050\n",
            "3  2025-01-07           4  Office Supplies  120.25     False  12.025\n"
          ]
        }
      ]
    }
  ]
}